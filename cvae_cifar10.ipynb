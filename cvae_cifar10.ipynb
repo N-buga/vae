{
 "cells": [
  {
   "cell_type": "code",
   "execution_count": 78,
   "metadata": {},
   "outputs": [],
   "source": [
    "import numpy as np\n",
    "from tensorflow.examples.tutorials.mnist import input_data\n",
    "import tensorflow as tf\n",
    "from keras import backend as K\n",
    "from keras import layers\n",
    "from keras.utils.np_utils import to_categorical   \n",
    "from keras import models, optimizers\n",
    "from keras import metrics\n",
    "from keras.datasets import cifar10"
   ]
  },
  {
   "cell_type": "code",
   "execution_count": 12,
   "metadata": {},
   "outputs": [],
   "source": [
    "original_img_size = (32, 32, 3)"
   ]
  },
  {
   "cell_type": "code",
   "execution_count": 5,
   "metadata": {},
   "outputs": [],
   "source": [
    "(x_train, y_train), (x_test, y_test) = cifar10.load_data()\n",
    "x_train = x_train.astype('float32') / 255.\n",
    "x_test = x_test.astype('float32') / 255."
   ]
  },
  {
   "cell_type": "code",
   "execution_count": 14,
   "metadata": {},
   "outputs": [
    {
     "data": {
      "text/plain": [
       "((50000, 32, 32, 3), (50000, 1), (10000, 32, 32, 3), (10000, 1))"
      ]
     },
     "execution_count": 14,
     "metadata": {},
     "output_type": "execute_result"
    }
   ],
   "source": [
    "x_train.shape, y_train.shape, x_test.shape, y_test.shape"
   ]
  },
  {
   "cell_type": "code",
   "execution_count": 29,
   "metadata": {},
   "outputs": [],
   "source": [
    "y_train = to_categorical(y_train, 10)\n",
    "y_test = to_categorical(y_test, 10)"
   ]
  },
  {
   "cell_type": "code",
   "execution_count": 30,
   "metadata": {},
   "outputs": [
    {
     "data": {
      "text/plain": [
       "((50000, 32, 32, 3), (50000, 10), (10000, 32, 32, 3), (10000, 10))"
      ]
     },
     "execution_count": 30,
     "metadata": {},
     "output_type": "execute_result"
    }
   ],
   "source": [
    "x_train.shape, y_train.shape, x_test.shape, y_test.shape"
   ]
  },
  {
   "cell_type": "code",
   "execution_count": 31,
   "metadata": {},
   "outputs": [],
   "source": [
    "nbatch = 100\n",
    "latent_size = 5"
   ]
  },
  {
   "cell_type": "code",
   "execution_count": 41,
   "metadata": {},
   "outputs": [],
   "source": [
    "pic_input = layers.Input(batch_shape=(nbatch,) + x_train.shape[1:])\n",
    "ans_input = layers.Input(batch_shape=(nbatch,) + y_train.shape[1:])\n",
    "\n",
    "#init\n",
    "#encoder\n",
    "conv_en_1 = layers.Conv2D(3, kernel_size=(2, 2), padding='same', activation='relu')\n",
    "conv_en_2 = layers.Conv2D(32, kernel_size=(2, 2), padding='same', activation='relu', strides=(2, 2))\n",
    "conv_en_3 = layers.Conv2D(32, kernel_size=(3, 3), padding='same', activation='relu')\n",
    "conv_en_4 = layers.Conv2D(32, kernel_size=(3, 3), padding='same', activation='relu')\n",
    "flat_en = layers.Flatten()\n",
    "dense_en = layers.Dense(512, activation='relu')\n",
    "mu_layout = layers.Dense(latent_size, activation='linear')\n",
    "log_sigma_layout = layers.Dense(latent_size, activation='linear')\n",
    "\n",
    "def eval_z(z_params):\n",
    "    mu, log_sigma = z_params\n",
    "    eps = K.random_normal_variable((nbatch, latent_size), mean=0, scale=1)\n",
    "    z = mu + K.exp(log_sigma / 2) * eps\n",
    "    return z\n",
    "\n",
    "z_layout = layers.Lambda(eval_z)\n",
    "\n",
    "#decoder\n",
    "dense_dec_1 = layers.Dense(512, activation='relu')\n",
    "dense_dec_2 = layers.Dense(int(x_train.shape[1]/2*x_train.shape[2]/2*x_train.shape[3]), activation='relu')\n",
    "reshape_dec = layers.Reshape((int(x_train.shape[1]/2), int(x_train.shape[2]/2), x_train.shape[3]))\n",
    "deconv_dec_1 = layers.Conv2DTranspose(32, kernel_size=(3, 3), padding='same', activation='relu')\n",
    "deconv_dec_2 = layers.Conv2DTranspose(32, kernel_size=(3, 3), padding='same', activation='relu')\n",
    "deconv_dec_3 = layers.Conv2DTranspose(32, kernel_size=(3, 3), strides=(2, 2), padding='valid', activation='relu')\n",
    "deconv_out = layers.Conv2D(3, kernel_size=(2, 2), padding='valid', activation='sigmoid')\n",
    "\n",
    "#net\n",
    "conv_en_out_1 = conv_en_1(pic_input)\n",
    "conv_en_out_2 = conv_en_2(conv_en_out_1)\n",
    "conv_en_out_3 = conv_en_3(conv_en_out_2)\n",
    "conv_en_out_4 = conv_en_4(conv_en_out_3)\n",
    "flat_pic = flat_en(conv_en_out_4)\n",
    "flat_input = layers.concatenate([flat_pic, ans_input], axis=1)\n",
    "dense_en_out = dense_en(flat_input)\n",
    "mu = mu_layout(dense_en_out)\n",
    "log_sigma = log_sigma_layout(dense_en_out)\n",
    "\n",
    "z = z_layout([mu, log_sigma])\n",
    "z_cond = layers.concatenate([z, ans_input], axis=1)\n",
    "\n",
    "dense_dec_out_1 = dense_dec_1(z_cond)\n",
    "dense_dec_out_2 = dense_dec_2(dense_dec_out_1)\n",
    "reshape_dec_out = reshape_dec(dense_dec_out_2)\n",
    "deconv_dec_out_1 = deconv_dec_1(reshape_dec_out)\n",
    "deconv_dec_out_2 = deconv_dec_2(deconv_dec_out_1)\n",
    "deconv_dec_out_3 = deconv_dec_3(deconv_dec_out_2)\n",
    "out = deconv_out(deconv_dec_out_3)"
   ]
  },
  {
   "cell_type": "code",
   "execution_count": 95,
   "metadata": {},
   "outputs": [],
   "source": [
    "#encoder\n",
    "en_pic_input = layers.Input(batch_shape=(nbatch,) + x_train.shape[1:])\n",
    "en_ans_input = layers.Input(batch_shape=(nbatch,) + y_train.shape[1:])\n",
    "\n",
    "en_conv_en_out_1 = conv_en_1(en_pic_input)\n",
    "en_conv_en_out_2 = conv_en_2(en_conv_en_out_1)\n",
    "en_conv_en_out_3 = conv_en_3(en_conv_en_out_2)\n",
    "en_conv_en_out_4 = conv_en_4(en_conv_en_out_3)\n",
    "en_flat_pic = flat_en(en_conv_en_out_4)\n",
    "en_flat_input = layers.concatenate([en_flat_pic, en_ans_input], axis=1)\n",
    "en_dense_en_out = dense_en(en_flat_input)\n",
    "en_mu = mu_layout(en_dense_en_out)\n",
    "en_log_sigma = log_sigma_layout(en_dense_en_out)\n",
    "en_z = z_layout([en_mu, en_log_sigma])"
   ]
  },
  {
   "cell_type": "code",
   "execution_count": 92,
   "metadata": {},
   "outputs": [],
   "source": [
    "#decoder\n",
    "d_ans_input = layers.Input(shape=(y_test.shape[1],))\n",
    "d_z = layers.Input(shape=(latent_size,))\n",
    "d_inputs = layers.concatenate([d_z, d_ans_input], axis=1)\n",
    "\n",
    "d_dense_dec_out_1 = dense_dec_1(d_inputs)\n",
    "d_dense_dec_out_2 = dense_dec_2(d_dense_dec_out_1)\n",
    "d_reshape_dec_out = reshape_dec(d_dense_dec_out_2)\n",
    "d_deconv_dec_out_1 = deconv_dec_1(d_reshape_dec_out)\n",
    "d_deconv_dec_out_2 = deconv_dec_2(d_deconv_dec_out_1)\n",
    "d_deconv_dec_out_3 = deconv_dec_3(d_deconv_dec_out_2)\n",
    "d_out = deconv_out(d_deconv_dec_out_3)"
   ]
  },
  {
   "cell_type": "code",
   "execution_count": 111,
   "metadata": {},
   "outputs": [],
   "source": [
    "#loss\n",
    "def vae_loss(y_true, y_pred):\n",
    "    y_true = K.flatten(y_true)\n",
    "    y_pred = K.flatten(y_pred)\n",
    "    xent_loss = metrics.binary_crossentropy(y_true, y_pred)\n",
    "    kl_loss = - 0.5 * K.mean(1 + log_sigma - K.square(mu) - K.exp(log_sigma), axis=-1)\n",
    "    return K.mean(xent_loss + kl_loss)"
   ]
  },
  {
   "cell_type": "code",
   "execution_count": 112,
   "metadata": {},
   "outputs": [],
   "source": [
    "cvae = models.Model([pic_input, ans_input], out)\n",
    "encoder = models.Model([en_pic_input, en_ans_input], en_z)\n",
    "decoder = models.Model([d_z, d_ans_input], d_out)"
   ]
  },
  {
   "cell_type": "code",
   "execution_count": 113,
   "metadata": {},
   "outputs": [
    {
     "name": "stdout",
     "output_type": "stream",
     "text": [
      "Train on 45000 samples, validate on 5000 samples\n",
      "Epoch 1/20\n",
      "45000/45000 [==============================] - 227s - loss: 0.6806 - val_loss: 0.6806\n",
      "Epoch 2/20\n",
      "45000/45000 [==============================] - 223s - loss: 0.6806 - val_loss: 0.6806\n",
      "Epoch 3/20\n",
      "45000/45000 [==============================] - 221s - loss: 0.6806 - val_loss: 0.6806\n",
      "Epoch 4/20\n",
      "45000/45000 [==============================] - 223s - loss: 0.6806 - val_loss: 0.6805\n",
      "Epoch 5/20\n",
      "45000/45000 [==============================] - 223s - loss: 0.6806 - val_loss: 0.6806\n",
      "Epoch 6/20\n",
      "45000/45000 [==============================] - 220s - loss: 0.6806 - val_loss: 0.6806\n",
      "Epoch 7/20\n",
      "45000/45000 [==============================] - 221s - loss: 0.6806 - val_loss: 0.6806\n",
      "Epoch 8/20\n",
      "45000/45000 [==============================] - 222s - loss: 0.6806 - val_loss: 0.6805\n",
      "Epoch 9/20\n",
      "45000/45000 [==============================] - 223s - loss: 0.6806 - val_loss: 0.6806\n",
      "Epoch 10/20\n",
      "45000/45000 [==============================] - 223s - loss: 0.6806 - val_loss: 0.6805\n",
      "Epoch 11/20\n",
      "45000/45000 [==============================] - 224s - loss: 0.6806 - val_loss: 0.6806\n",
      "Epoch 12/20\n",
      "45000/45000 [==============================] - 234s - loss: 0.6806 - val_loss: 0.6806\n",
      "Epoch 13/20\n",
      "45000/45000 [==============================] - 249s - loss: 0.6806 - val_loss: 0.6806\n",
      "Epoch 14/20\n",
      "45000/45000 [==============================] - 236s - loss: 0.6806 - val_loss: 0.6806\n",
      "Epoch 15/20\n",
      "45000/45000 [==============================] - 225s - loss: 0.6806 - val_loss: 0.6805\n",
      "Epoch 16/20\n",
      "45000/45000 [==============================] - 235s - loss: 0.6806 - val_loss: 0.6805\n",
      "Epoch 17/20\n",
      "45000/45000 [==============================] - 220s - loss: 0.6806 - val_loss: 0.6805\n",
      "Epoch 18/20\n",
      "45000/45000 [==============================] - 226s - loss: 0.6806 - val_loss: 0.6805\n",
      "Epoch 19/20\n",
      "45000/45000 [==============================] - 253s - loss: 0.6806 - val_loss: 0.6805\n",
      "Epoch 20/20\n",
      "45000/45000 [==============================] - 226s - loss: 0.6806 - val_loss: 0.6806\n"
     ]
    },
    {
     "data": {
      "text/plain": [
       "<keras.callbacks.History at 0x1827d6b38>"
      ]
     },
     "execution_count": 113,
     "metadata": {},
     "output_type": "execute_result"
    }
   ],
   "source": [
    "cvae.compile(optimizer=\"adam\", loss=vae_loss)\n",
    "\n",
    "cvae.fit([x_train, y_train], x_train, batch_size=nbatch, epochs=20, validation_split=0.1)"
   ]
  },
  {
   "cell_type": "code",
   "execution_count": 116,
   "metadata": {},
   "outputs": [
    {
     "name": "stdout",
     "output_type": "stream",
     "text": [
      "Training history\n"
     ]
    },
    {
     "data": {
      "text/plain": [
       "<matplotlib.text.Text at 0x1810da358>"
      ]
     },
     "execution_count": 116,
     "metadata": {},
     "output_type": "execute_result"
    },
    {
     "data": {
      "image/png": "[encoded data removed]",
      "text/plain": [
       "<matplotlib.figure.Figure at 0x18af075f8>"
      ]
     },
     "metadata": {},
     "output_type": "display_data"
    }
   ],
   "source": [
    "import matplotlib.pyplot as plt\n",
    "%matplotlib inline\n",
    "\n",
    "print(\"Training history\")\n",
    "fig = plt.figure(figsize=(10,4))\n",
    "ax1 = fig.add_subplot(1, 2, 1)\n",
    "plt.plot(cvae.history.history['loss'])\n",
    "ax1.set_title('loss')\n",
    "ax2 = fig.add_subplot(1, 2, 2)\n",
    "plt.plot(cvae.history.history['val_loss'])\n",
    "ax2.set_title('validation loss')"
   ]
  },
  {
   "cell_type": "code",
   "execution_count": 117,
   "metadata": {},
   "outputs": [
    {
     "data": {
      "image/png": "[encoded data removed]",
      "text/plain": [
       "<matplotlib.figure.Figure at 0x18131df28>"
      ]
     },
     "metadata": {},
     "output_type": "display_data"
    }
   ],
   "source": [
    "from keras.utils import np_utils\n",
    "pic_size = 32\n",
    "\n",
    "z_sample = np.random.rand(1, 5) # random \n",
    "\n",
    "plt.figure(figsize=(20, 2))\n",
    "for i in range(10):\n",
    "    c = np_utils.to_categorical(i, y_train.shape[1])\n",
    "    x_decoded = decoder.predict([z_sample, c])\n",
    "    digit = x_decoded[0].reshape(pic_size, pic_size, 3)\n",
    "\n",
    "    plt.subplot(1, y_train.shape[1], i + 1)\n",
    "    plt.axis('off')\n",
    "    plt.imshow(digit)\n",
    "plt.show()"
   ]
  },
  {
   "cell_type": "code",
   "execution_count": null,
   "metadata": {},
   "outputs": [],
   "source": []
  }
 ],
 "metadata": {
  "kernelspec": {
   "display_name": "tensorflow",
   "language": "python",
   "name": "tensorflow"
  },
  "language_info": {
   "codemirror_mode": {
    "name": "ipython",
    "version": 3
   },
   "file_extension": ".py",
   "mimetype": "text/x-python",
   "name": "python",
   "nbconvert_exporter": "python",
   "pygments_lexer": "ipython3",
   "version": "3.6.1"
  }
 },
 "nbformat": 4,
 "nbformat_minor": 2
}
