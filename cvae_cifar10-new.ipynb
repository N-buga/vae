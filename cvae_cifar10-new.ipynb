{
 "cells": [
  {
   "cell_type": "code",
   "execution_count": 1,
   "metadata": {},
   "outputs": [
    {
     "name": "stderr",
     "output_type": "stream",
     "text": [
      "/Users/nadya-bu/au/7term/tensorflow/lib/python3.6/site-packages/h5py/__init__.py:36: FutureWarning: Conversion of the second argument of issubdtype from `float` to `np.floating` is deprecated. In future, it will be treated as `np.float64 == np.dtype(float).type`.\n",
      "  from ._conv import register_converters as _register_converters\n",
      "Using TensorFlow backend.\n"
     ]
    }
   ],
   "source": [
    "import numpy as np\n",
    "from tensorflow.examples.tutorials.mnist import input_data\n",
    "import tensorflow as tf\n",
    "from keras import backend as K\n",
    "from keras import layers\n",
    "from keras.utils.np_utils import to_categorical   \n",
    "from keras import models, optimizers\n",
    "from keras import metrics\n",
    "from keras.utils import plot_model\n",
    "from keras.datasets import cifar10"
   ]
  },
  {
   "cell_type": "code",
   "execution_count": 2,
   "metadata": {},
   "outputs": [],
   "source": [
    "(x_train, y_train), (x_test, y_test) = cifar10.load_data()\n",
    "x_train = x_train.astype('float32') / 255.\n",
    "x_test = x_test.astype('float32') / 255."
   ]
  },
  {
   "cell_type": "code",
   "execution_count": 3,
   "metadata": {},
   "outputs": [
    {
     "data": {
      "text/plain": [
       "((50000, 32, 32, 3), (50000, 1), (10000, 32, 32, 3), (10000, 1))"
      ]
     },
     "execution_count": 3,
     "metadata": {},
     "output_type": "execute_result"
    }
   ],
   "source": [
    "x_train.shape, y_train.shape, x_test.shape, y_test.shape"
   ]
  },
  {
   "cell_type": "code",
   "execution_count": 4,
   "metadata": {},
   "outputs": [],
   "source": [
    "def get_only_classes(classes, x, y):\n",
    "    index = y == classes[0]\n",
    "    for clazz in classes[1:]:\n",
    "        index = np.logical_or(index, y == clazz)\n",
    "        \n",
    "    index = index.squeeze()\n",
    "        \n",
    "    new_x = x[index]\n",
    "    new_y = to_categorical(y[index], len(classes))\n",
    "    \n",
    "    p = np.random.permutation(new_x.shape[0])\n",
    "    return new_x[p], new_y[p]"
   ]
  },
  {
   "cell_type": "code",
   "execution_count": 5,
   "metadata": {},
   "outputs": [
    {
     "data": {
      "text/plain": [
       "((50000, 32, 32, 3), (50000, 10), (10000, 32, 32, 3), (10000, 10))"
      ]
     },
     "execution_count": 5,
     "metadata": {},
     "output_type": "execute_result"
    }
   ],
   "source": [
    "x_train10, y_train10 = get_only_classes(list(range(10)), x_train, y_train)\n",
    "x_test10, y_test10 = get_only_classes(list(range(10)), x_test, y_test)\n",
    "x_train10.shape, y_train10.shape, x_test10.shape, y_test10.shape"
   ]
  },
  {
   "cell_type": "code",
   "execution_count": 6,
   "metadata": {},
   "outputs": [
    {
     "data": {
      "text/plain": [
       "((10000, 32, 32, 3), (10000, 2), (2000, 32, 32, 3), (2000, 2))"
      ]
     },
     "execution_count": 6,
     "metadata": {},
     "output_type": "execute_result"
    }
   ],
   "source": [
    "x_train2, y_train2 = get_only_classes(list(range(2)), x_train, y_train)\n",
    "x_test2, y_test2 = get_only_classes(list(range(2)), x_test, y_test)\n",
    "x_train2.shape, y_train2.shape, x_test2.shape, y_test2.shape"
   ]
  },
  {
   "cell_type": "code",
   "execution_count": 7,
   "metadata": {},
   "outputs": [
    {
     "data": {
      "text/plain": [
       "((5000, 32, 32, 3), (5000, 1), (1000, 32, 32, 3), (1000, 1))"
      ]
     },
     "execution_count": 7,
     "metadata": {},
     "output_type": "execute_result"
    }
   ],
   "source": [
    "x_train1, y_train1 = get_only_classes(list(range(1)), x_train, y_train)\n",
    "x_test1, y_test1 = get_only_classes(list(range(1)), x_test, y_test)\n",
    "x_train1.shape, y_train1.shape, x_test1.shape, y_test1.shape"
   ]
  },
  {
   "cell_type": "code",
   "execution_count": 43,
   "metadata": {},
   "outputs": [],
   "source": [
    "class base_CVAE():\n",
    "    def  __init__(self, batch_size, latent_size, original_dim, ans_size, step=None):\n",
    "        self.batch_size = batch_size\n",
    "        self.latent_size = latent_size\n",
    "        self.original_dim = original_dim\n",
    "        self.ans_size = ans_size\n",
    "        \n",
    "        pic_input = layers.Input(shape=original_dim)\n",
    "        ans_input = layers.Input(shape=ans_size)\n",
    "        z_input = layers.Input(shape=latent_size)\n",
    "        \n",
    "        self.init_pic_encoder_layers()\n",
    "        self.init_encoder_layers()\n",
    "        self.init_decoder_layers()\n",
    "        \n",
    "        z, mu = self.encode(pic_input, ans_input)\n",
    "        decode = self.decode(z, ans_input)\n",
    "        self.cvae = models.Model([pic_input, ans_input], decode)\n",
    "        if step is not None:\n",
    "            self.cvae.compile(optimizer=\"adam\", loss=self.vae_loss, step=step)\n",
    "        else:\n",
    "            self.cvae.compile(optimizer=\"adam\", loss=self.vae_loss)\n",
    "        \n",
    "        self.encoder = models.Model([pic_input, ans_input], [z, mu])\n",
    "        \n",
    "        dec_out = self.decode(z_input, ans_input)\n",
    "        self.generator = models.Model([z_input, ans_input], dec_out)\n",
    "        \n",
    "    def history(self):\n",
    "        return self.cvae.history\n",
    "\n",
    "    def init_pic_encoder_layers(self):\n",
    "        pass\n",
    "    \n",
    "    def init_encoder_layers(self):\n",
    "        with tf.name_scope(\"en\"):\n",
    "            self.dense_en_cond = layers.Dense(512, activation='relu')\n",
    "            self.dense_mu = layers.Dense(self.latent_size[0], activation='linear')\n",
    "            self.dense_log_sigma = layers.Dense(self.latent_size[0], activation='linear')\n",
    "\n",
    "    def init_decoder_layers(self):\n",
    "        pass\n",
    "    \n",
    "    def encode_pic(self, pic_input):\n",
    "        pass\n",
    "\n",
    "    def encode(self, pic_input, ans):\n",
    "        pic_enc = self.encode_pic(pic_input)\n",
    "        cond_input = layers.concatenate([pic_enc, ans], axis=1)\n",
    "        enc1 = self.dense_en_cond(cond_input)\n",
    "        self.mu = self.dense_mu(enc1)\n",
    "        self.log_sigma = self.dense_log_sigma(enc1)\n",
    "    \n",
    "        def eval_z(z_params):\n",
    "            mu, log_sigma = z_params\n",
    "            batch_dim = tf.reshape(K.shape(mu)[0], (1,))\n",
    "            latent_dim = tf.reshape(tf.convert_to_tensor([self.latent_size]), (1,))\n",
    "            random_shape = tf.concat([batch_dim, latent_dim], axis=0)\n",
    "            eps = K.random_normal(random_shape)\n",
    "            z = mu + K.exp(log_sigma / 2) * eps\n",
    "            return z\n",
    "           \n",
    "        return layers.Lambda(eval_z)([self.mu, self.log_sigma]), self.mu\n",
    "\n",
    "    def vae_loss(self, y_true, y_pred):\n",
    "        y_true = K.reshape(y_true, (K.shape(y_true)[0], -1))\n",
    "        y_pred = K.reshape(y_pred, (K.shape(y_pred)[0], -1))\n",
    "        xent_loss = K.sum(K.binary_crossentropy(y_pred, y_true), axis=1)\n",
    "        kl_loss = 0.5 * K.sum(K.exp(self.log_sigma) + K.square(self.mu) - 1. - self.log_sigma, axis=1)\n",
    "        return xent_loss + kl_loss\n",
    "    \n",
    "    def train(self, x_train, y_train, x_test, y_test, epochs=100):\n",
    "        self.cvae.fit([x_train, y_train], x_train, batch_size=self.batch_size, epochs=epochs, \n",
    "                     validation_data=([x_test, y_test], x_test))\n",
    "        \n",
    "    def generate_pic(self, z, ans):\n",
    "        return self.generator.predict([z, ans])\n",
    "    \n",
    "    def get_z(self, pic, ans):\n",
    "        return self.encoder.predict([pic, ans])[0]\n",
    "    \n",
    "    def get_mu(self, pic, ans):\n",
    "        return self.encoder.predict([pic, ans])[1]        \n",
    "\n",
    "    def enc_dec(self, pic, ans):\n",
    "        return self.generate_pic(self.get_mu(pic, ans), ans)"
   ]
  },
  {
   "cell_type": "code",
   "execution_count": 44,
   "metadata": {},
   "outputs": [],
   "source": [
    "class ConvCVAE(base_CVAE):\n",
    "    def  __init__(self, batch_size, latent_size, original_dim, ans_size, step=None):\n",
    "        super(ConvCVAE, self).__init__(batch_size, latent_size, original_dim, ans_size, step)        \n",
    "        \n",
    "    def init_pic_encoder_layers(self):\n",
    "        with tf.name_scope(\"en_pic\"):\n",
    "            self.en_pic_model = models.Sequential([\n",
    "                layers.Conv2D(3, kernel_size=(2, 2), padding='same', activation='relu', input_shape=self.original_dim),\n",
    "                layers.Conv2D(32, kernel_size=(2, 2), padding='same', activation='relu', strides=(2, 2)),\n",
    "                layers.BatchNormalization(),\n",
    "                layers.Conv2D(32, kernel_size=(3, 3), padding='same', activation='relu'),\n",
    "                layers.Conv2D(32, kernel_size=(3, 3), padding='same', activation='relu'),\n",
    "                layers.Flatten()\n",
    "            ])\n",
    "                        \n",
    "    def init_decoder_layers(self):\n",
    "        with tf.name_scope(\"dec\"):\n",
    "            self.dec_model = models.Sequential([\n",
    "                layers.Dense(512, activation='relu', input_shape=(self.latent_size[0] + self.ans_size[0],)),\n",
    "                layers.Dense(int(x_train.shape[1]/2*x_train.shape[2]/2*x_train.shape[3]), activation='relu'),\n",
    "                layers.Reshape((int(x_train.shape[1]/2), int(x_train.shape[2]/2), x_train.shape[3])),\n",
    "                layers.Conv2DTranspose(32, kernel_size=(3, 3), padding='same', activation='relu'),\n",
    "                layers.Conv2DTranspose(32, kernel_size=(3, 3), padding='same', activation='relu'),\n",
    "                layers.BatchNormalization(),\n",
    "                layers.Conv2DTranspose(32, kernel_size=(3, 3), strides=(2, 2), padding='valid', activation='relu'),\n",
    "                layers.Conv2D(3, kernel_size=(2, 2), padding='valid', activation='sigmoid')\n",
    "            ])\n",
    "        \n",
    "    def encode_pic(self, pic_input):\n",
    "        return self.en_pic_model(pic_input)\n",
    "        \n",
    "    def decode(self, z, ans):\n",
    "        z_cond = layers.concatenate([z, ans], axis=1)\n",
    "        return self.dec_model(z_cond)"
   ]
  },
  {
   "cell_type": "code",
   "execution_count": 45,
   "metadata": {},
   "outputs": [],
   "source": [
    "class DenseCVAE(base_CVAE):\n",
    "    def  __init__(self, batch_size, latent_size, original_dim, ans_size, step=None):\n",
    "        super(DenseCVAE, self).__init__(batch_size, latent_size, original_dim, ans_size, step)        \n",
    "\n",
    "    def init_pic_encoder_layers(self):\n",
    "        with tf.name_scope(\"en_pic\"):\n",
    "            self.en_pic_model = models.Sequential([\n",
    "                layers.Flatten(input_shape=self.original_dim),\n",
    "                layers.Dense(512, activation='relu'),\n",
    "                layers.Dense(512, activation='relu')\n",
    "            ])\n",
    "            \n",
    "    def init_decoder_layers(self):\n",
    "        with tf.name_scope(\"dec\"):\n",
    "            self.dec_model = models.Sequential([\n",
    "                layers.Dense(512, activation='relu', input_shape=(self.latent_size[0] + self.ans_size[0],)),\n",
    "                layers.Dense(512, activation='relu'),\n",
    "                layers.Dense(x_train.shape[1] * x_train.shape[2] * x_train.shape[3], activation='sigmoid'),\n",
    "                layers.Reshape((x_train.shape[1], x_train.shape[2], x_train.shape[3]))\n",
    "            ])\n",
    "        \n",
    "    def encode_pic(self, pic_input):\n",
    "        return self.en_pic_model(pic_input)\n",
    "    \n",
    "    def decode(self, z, ans):\n",
    "        z_cond = layers.concatenate([z, ans], axis=1)\n",
    "        return self.dec_model(z_cond)"
   ]
  },
  {
   "cell_type": "markdown",
   "metadata": {},
   "source": [
    "# DenseCVAE"
   ]
  },
  {
   "cell_type": "code",
   "execution_count": 48,
   "metadata": {},
   "outputs": [],
   "source": [
    "nbatch = 320\n",
    "latent_size = 64\n",
    "\n",
    "dense_cvae = DenseCVAE(nbatch, (latent_size,), x_train10.shape[1:], y_train10.shape[1:], step=0.0005)\n",
    "plot_model(dense_cvae.cvae, to_file='dense_model.png')"
   ]
  },
  {
   "cell_type": "code",
   "execution_count": 49,
   "metadata": {},
   "outputs": [
    {
     "name": "stderr",
     "output_type": "stream",
     "text": [
      "/Users/nadya-bu/au/7term/tensorflow/lib/python3.6/site-packages/keras/backend/tensorflow_backend.py:2096: UserWarning: Expected no kwargs, you passed 1\n",
      "kwargs passed to function are ignored with Tensorflow backend\n",
      "  warnings.warn('\\n'.join(msg))\n"
     ]
    },
    {
     "name": "stdout",
     "output_type": "stream",
     "text": [
      "Train on 50000 samples, validate on 10000 samples\n",
      "Epoch 1/80\n",
      "50000/50000 [==============================] - 44s - loss: 1999.6365 - val_loss: 1945.9715\n",
      "Epoch 2/80\n",
      "50000/50000 [==============================] - 39s - loss: 1932.4125 - val_loss: 1916.5720\n",
      "Epoch 3/80\n",
      "50000/50000 [==============================] - 39s - loss: 1900.5263 - val_loss: 1895.7263\n",
      "Epoch 4/80\n",
      "50000/50000 [==============================] - 39s - loss: 1885.8837 - val_loss: 1886.6066\n",
      "Epoch 5/80\n",
      "50000/50000 [==============================] - 39s - loss: 1878.7465 - val_loss: 1877.2519\n",
      "Epoch 6/80\n",
      "50000/50000 [==============================] - 39s - loss: 1871.9320 - val_loss: 1873.9190\n",
      "Epoch 7/80\n",
      "50000/50000 [==============================] - 39s - loss: 1869.2466 - val_loss: 1878.8163\n",
      "Epoch 8/80\n",
      "50000/50000 [==============================] - 39s - loss: 1866.4147 - val_loss: 1868.4209\n",
      "Epoch 9/80\n",
      "50000/50000 [==============================] - 39s - loss: 1863.5674 - val_loss: 1868.2372\n",
      "Epoch 10/80\n",
      "50000/50000 [==============================] - 39s - loss: 1862.3907 - val_loss: 1866.1226\n",
      "Epoch 11/80\n",
      "50000/50000 [==============================] - 39s - loss: 1859.4557 - val_loss: 1863.3209\n",
      "Epoch 12/80\n",
      "50000/50000 [==============================] - 39s - loss: 1858.3834 - val_loss: 1863.4012\n",
      "Epoch 13/80\n",
      "50000/50000 [==============================] - 39s - loss: 1856.9135 - val_loss: 1860.7085\n",
      "Epoch 14/80\n",
      "50000/50000 [==============================] - 39s - loss: 1855.0887 - val_loss: 1859.2406\n",
      "Epoch 15/80\n",
      "50000/50000 [==============================] - 39s - loss: 1852.8759 - val_loss: 1855.9597\n",
      "Epoch 16/80\n",
      "50000/50000 [==============================] - 39s - loss: 1851.9884 - val_loss: 1855.9541\n",
      "Epoch 17/80\n",
      "50000/50000 [==============================] - 39s - loss: 1851.3140 - val_loss: 1855.7953\n",
      "Epoch 18/80\n",
      "50000/50000 [==============================] - 39s - loss: 1850.0335 - val_loss: 1853.7704\n",
      "Epoch 19/80\n",
      "50000/50000 [==============================] - 39s - loss: 1848.8705 - val_loss: 1851.4906\n",
      "Epoch 20/80\n",
      "50000/50000 [==============================] - 39s - loss: 1847.4208 - val_loss: 1850.7042\n",
      "Epoch 21/80\n",
      "50000/50000 [==============================] - 39s - loss: 1846.2555 - val_loss: 1850.9536\n",
      "Epoch 22/80\n",
      "50000/50000 [==============================] - 39s - loss: 1845.0853 - val_loss: 1850.9065\n",
      "Epoch 23/80\n",
      "50000/50000 [==============================] - 39s - loss: 1844.2255 - val_loss: 1850.2291\n",
      "Epoch 24/80\n",
      "50000/50000 [==============================] - 39s - loss: 1843.9654 - val_loss: 1847.6123\n",
      "Epoch 25/80\n",
      "50000/50000 [==============================] - 39s - loss: 1842.6505 - val_loss: 1846.4893\n",
      "Epoch 26/80\n",
      "50000/50000 [==============================] - 39s - loss: 1842.5074 - val_loss: 1846.5861\n",
      "Epoch 27/80\n",
      "50000/50000 [==============================] - 39s - loss: 1841.3889 - val_loss: 1850.3886\n",
      "Epoch 28/80\n",
      "50000/50000 [==============================] - 39s - loss: 1840.5465 - val_loss: 1844.3508\n",
      "Epoch 29/80\n",
      "50000/50000 [==============================] - 40s - loss: 1839.8614 - val_loss: 1843.9121\n",
      "Epoch 30/80\n",
      "50000/50000 [==============================] - 40s - loss: 1838.8059 - val_loss: 1845.4867\n",
      "Epoch 31/80\n",
      "50000/50000 [==============================] - 39s - loss: 1838.3390 - val_loss: 1842.2850\n",
      "Epoch 32/80\n",
      "50000/50000 [==============================] - 40s - loss: 1837.9643 - val_loss: 1843.0499\n",
      "Epoch 33/80\n",
      "50000/50000 [==============================] - 40s - loss: 1837.3709 - val_loss: 1841.9502\n",
      "Epoch 34/80\n",
      "50000/50000 [==============================] - 39s - loss: 1836.9563 - val_loss: 1843.5012\n",
      "Epoch 35/80\n",
      "50000/50000 [==============================] - 39s - loss: 1836.6117 - val_loss: 1841.1315\n",
      "Epoch 36/80\n",
      "50000/50000 [==============================] - 39s - loss: 1836.3147 - val_loss: 1842.0957\n",
      "Epoch 37/80\n",
      "50000/50000 [==============================] - 39s - loss: 1836.0727 - val_loss: 1841.4942\n",
      "Epoch 38/80\n",
      "50000/50000 [==============================] - 39s - loss: 1835.7265 - val_loss: 1845.9018\n",
      "Epoch 39/80\n",
      "50000/50000 [==============================] - 39s - loss: 1835.3129 - val_loss: 1840.3636\n",
      "Epoch 40/80\n",
      "50000/50000 [==============================] - 39s - loss: 1834.9949 - val_loss: 1841.4094\n",
      "Epoch 41/80\n",
      "50000/50000 [==============================] - 39s - loss: 1835.0507 - val_loss: 1841.4440\n",
      "Epoch 42/80\n",
      "50000/50000 [==============================] - 39s - loss: 1834.6543 - val_loss: 1840.3117\n",
      "Epoch 43/80\n",
      "50000/50000 [==============================] - 39s - loss: 1834.2142 - val_loss: 1839.3458\n",
      "Epoch 44/80\n",
      "50000/50000 [==============================] - 39s - loss: 1834.6649 - val_loss: 1840.3980\n",
      "Epoch 45/80\n",
      "50000/50000 [==============================] - 39s - loss: 1834.1604 - val_loss: 1840.1627\n",
      "Epoch 46/80\n",
      "50000/50000 [==============================] - 39s - loss: 1833.9009 - val_loss: 1840.4672\n",
      "Epoch 47/80\n",
      "50000/50000 [==============================] - 39s - loss: 1833.7457 - val_loss: 1839.7485\n",
      "Epoch 48/80\n",
      "50000/50000 [==============================] - 39s - loss: 1833.2190 - val_loss: 1839.3443\n",
      "Epoch 49/80\n",
      "50000/50000 [==============================] - 39s - loss: 1833.6157 - val_loss: 1839.1953\n",
      "Epoch 50/80\n",
      "50000/50000 [==============================] - 39s - loss: 1833.0891 - val_loss: 1839.1819\n",
      "Epoch 51/80\n",
      "50000/50000 [==============================] - 39s - loss: 1832.8384 - val_loss: 1838.9310\n",
      "Epoch 52/80\n",
      "50000/50000 [==============================] - 39s - loss: 1832.4595 - val_loss: 1838.4423\n",
      "Epoch 53/80\n",
      "50000/50000 [==============================] - 39s - loss: 1832.3081 - val_loss: 1838.3381\n",
      "Epoch 54/80\n",
      "50000/50000 [==============================] - 39s - loss: 1832.0702 - val_loss: 1838.1467\n",
      "Epoch 55/80\n",
      "50000/50000 [==============================] - 40s - loss: 1831.9323 - val_loss: 1838.9197\n",
      "Epoch 56/80\n",
      "50000/50000 [==============================] - 39s - loss: 1832.1335 - val_loss: 1838.3233\n",
      "Epoch 57/80\n",
      "50000/50000 [==============================] - 39s - loss: 1831.8079 - val_loss: 1840.2909\n",
      "Epoch 58/80\n",
      "50000/50000 [==============================] - 39s - loss: 1831.6346 - val_loss: 1837.5076\n",
      "Epoch 59/80\n",
      "50000/50000 [==============================] - 39s - loss: 1831.3109 - val_loss: 1838.1614\n",
      "Epoch 60/80\n",
      "50000/50000 [==============================] - 39s - loss: 1831.3078 - val_loss: 1837.7785\n",
      "Epoch 61/80\n",
      "50000/50000 [==============================] - 39s - loss: 1831.5447 - val_loss: 1838.6200\n",
      "Epoch 62/80\n",
      "50000/50000 [==============================] - 39s - loss: 1830.9415 - val_loss: 1839.0116\n",
      "Epoch 63/80\n",
      "50000/50000 [==============================] - 39s - loss: 1831.0863 - val_loss: 1837.6130\n",
      "Epoch 64/80\n",
      "50000/50000 [==============================] - 39s - loss: 1830.5476 - val_loss: 1838.0569\n",
      "Epoch 65/80\n",
      "50000/50000 [==============================] - 39s - loss: 1830.4095 - val_loss: 1836.6749\n",
      "Epoch 66/80\n",
      "50000/50000 [==============================] - 39s - loss: 1830.0252 - val_loss: 1837.9191\n",
      "Epoch 67/80\n",
      "50000/50000 [==============================] - 39s - loss: 1830.3342 - val_loss: 1838.0782\n",
      "Epoch 68/80\n",
      "50000/50000 [==============================] - 39s - loss: 1829.5965 - val_loss: 1836.8186\n",
      "Epoch 69/80\n",
      "50000/50000 [==============================] - 40s - loss: 1829.5655 - val_loss: 1837.4828\n",
      "Epoch 70/80\n",
      "50000/50000 [==============================] - 39s - loss: 1829.8531 - val_loss: 1837.1114\n",
      "Epoch 71/80\n",
      "50000/50000 [==============================] - 39s - loss: 1829.6490 - val_loss: 1836.6667\n",
      "Epoch 72/80\n",
      "50000/50000 [==============================] - 39s - loss: 1829.1333 - val_loss: 1837.6585\n",
      "Epoch 73/80\n",
      "50000/50000 [==============================] - 39s - loss: 1829.0082 - val_loss: 1835.7321\n",
      "Epoch 74/80\n",
      "50000/50000 [==============================] - 39s - loss: 1828.9089 - val_loss: 1837.8967\n",
      "Epoch 75/80\n",
      "50000/50000 [==============================] - 39s - loss: 1829.2263 - val_loss: 1836.2810\n",
      "Epoch 76/80\n",
      "50000/50000 [==============================] - 39s - loss: 1828.8168 - val_loss: 1836.4818\n",
      "Epoch 77/80\n",
      "50000/50000 [==============================] - 39s - loss: 1828.8161 - val_loss: 1839.1495\n",
      "Epoch 78/80\n",
      "50000/50000 [==============================] - 39s - loss: 1829.3631 - val_loss: 1836.4467\n",
      "Epoch 79/80\n",
      "50000/50000 [==============================] - 39s - loss: 1828.1715 - val_loss: 1836.8474\n",
      "Epoch 80/80\n"
     ]
    },
    {
     "name": "stdout",
     "output_type": "stream",
     "text": [
      "50000/50000 [==============================] - 39s - loss: 1828.3202 - val_loss: 1835.9278\n"
     ]
    }
   ],
   "source": [
    "dense_cvae.train(x_train10, y_train10, x_test10, y_test10, epochs=80)"
   ]
  },
  {
   "cell_type": "code",
   "execution_count": 50,
   "metadata": {},
   "outputs": [
    {
     "name": "stdout",
     "output_type": "stream",
     "text": [
      "Training history\n"
     ]
    },
    {
     "data": {
      "text/plain": [
       "<matplotlib.text.Text at 0x1548feda0>"
      ]
     },
     "execution_count": 50,
     "metadata": {},
     "output_type": "execute_result"
    },
    {
     "data": {
      "image/png": "[encoded data removed]",
      "text/plain": [
       "<matplotlib.figure.Figure at 0x17258ccf8>"
      ]
     },
     "metadata": {},
     "output_type": "display_data"
    }
   ],
   "source": [
    "import matplotlib.pyplot as plt\n",
    "%matplotlib inline\n",
    "\n",
    "print(\"Training history\")\n",
    "fig = plt.figure(figsize=(10,4))\n",
    "ax1 = fig.add_subplot(1, 2, 1)\n",
    "plt.plot(dense_cvae.history().history['loss'])\n",
    "ax1.set_title('loss')\n",
    "ax2 = fig.add_subplot(1, 2, 2)\n",
    "plt.plot(dense_cvae.history().history['val_loss'])\n",
    "ax2.set_title('validation loss')"
   ]
  },
  {
   "cell_type": "code",
   "execution_count": 53,
   "metadata": {},
   "outputs": [
    {
     "data": {
      "image/png": "[encoded data removed]",
      "text/plain": [
       "<matplotlib.figure.Figure at 0x16ca3a9e8>"
      ]
     },
     "metadata": {},
     "output_type": "display_data"
    }
   ],
   "source": [
    "from keras.utils import np_utils\n",
    "\n",
    "pic_size = 32\n",
    "\n",
    "z_sample = np.random.rand(1, latent_size) # random \n",
    "\n",
    "plt.figure(figsize=(20, 2))\n",
    "for i in range(10):\n",
    "    c = np_utils.to_categorical(i, y_train10.shape[1])\n",
    "    x_decoded = dense_cvae.generate_pic(z_sample, c)\n",
    "    pic = x_decoded[0]\n",
    "\n",
    "    plt.subplot(1, y_train10.shape[1], i + 1)\n",
    "    plt.axis('off')\n",
    "    plt.imshow(pic)\n",
    "plt.show()"
   ]
  },
  {
   "cell_type": "code",
   "execution_count": 54,
   "metadata": {},
   "outputs": [
    {
     "data": {
      "image/png": "[encoded data removed]",
      "text/plain": [
       "<matplotlib.figure.Figure at 0x154659ac8>"
      ]
     },
     "metadata": {},
     "output_type": "display_data"
    }
   ],
   "source": [
    "x_decoded = dense_cvae.enc_dec(x_train10[:1], y_train10[:1])\n",
    "\n",
    "plt.figure(figsize=(20, 2))\n",
    "\n",
    "plt.subplot(1, 2, 1)\n",
    "plt.axis('off')\n",
    "plt.imshow(x_train10[0])\n",
    "\n",
    "plt.subplot(1, 2, 2)\n",
    "plt.axis('off')\n",
    "plt.imshow(x_decoded[0])\n",
    "\n",
    "plt.show()"
   ]
  },
  {
   "cell_type": "markdown",
   "metadata": {},
   "source": [
    "# ConvCVAE"
   ]
  },
  {
   "cell_type": "code",
   "execution_count": 55,
   "metadata": {},
   "outputs": [],
   "source": [
    "nbatch = 320\n",
    "latent_size = 64\n",
    "\n",
    "conv_cvae = ConvCVAE(nbatch, (latent_size,), x_train10.shape[1:], y_train10.shape[1:])\n",
    "plot_model(conv_cvae.cvae, to_file='conv_model.png')"
   ]
  },
  {
   "cell_type": "code",
   "execution_count": 56,
   "metadata": {},
   "outputs": [
    {
     "name": "stdout",
     "output_type": "stream",
     "text": [
      "Train on 50000 samples, validate on 10000 samples\n",
      "Epoch 1/80\n",
      "50000/50000 [==============================] - 270s - loss: 2019.0533 - val_loss: 2169.7377\n",
      "Epoch 2/80\n",
      "50000/50000 [==============================] - 258s - loss: 1897.0527 - val_loss: 2053.7062\n",
      "Epoch 3/80\n",
      "50000/50000 [==============================] - 258s - loss: 1873.6249 - val_loss: 1951.1322\n",
      "Epoch 4/80\n",
      "50000/50000 [==============================] - 259s - loss: 1863.4490 - val_loss: 1877.9144\n",
      "Epoch 5/80\n",
      "50000/50000 [==============================] - 258s - loss: 1857.3113 - val_loss: 1861.4554\n",
      "Epoch 6/80\n",
      "50000/50000 [==============================] - 262s - loss: 1852.1062 - val_loss: 1852.2813\n",
      "Epoch 7/80\n",
      "50000/50000 [==============================] - 266s - loss: 1843.5767 - val_loss: 1849.8716\n",
      "Epoch 8/80\n",
      "50000/50000 [==============================] - 243s - loss: 1838.8011 - val_loss: 1851.4557\n",
      "Epoch 9/80\n",
      "50000/50000 [==============================] - 242s - loss: 1836.4642 - val_loss: 1839.6481\n",
      "Epoch 10/80\n",
      "50000/50000 [==============================] - 4890s - loss: 1835.0757 - val_loss: 1840.3706\n",
      "Epoch 11/80\n",
      "50000/50000 [==============================] - 265s - loss: 1833.4295 - val_loss: 1840.4028\n",
      "Epoch 12/80\n",
      "50000/50000 [==============================] - 259s - loss: 1832.3747 - val_loss: 1836.5606\n",
      "Epoch 13/80\n",
      "50000/50000 [==============================] - 259s - loss: 1831.2875 - val_loss: 1835.9285\n",
      "Epoch 14/80\n",
      "50000/50000 [==============================] - 256s - loss: 1830.8649 - val_loss: 1833.9977\n",
      "Epoch 15/80\n",
      "50000/50000 [==============================] - 266s - loss: 1830.1099 - val_loss: 1832.8898\n",
      "Epoch 16/80\n",
      "50000/50000 [==============================] - 288s - loss: 1829.3761 - val_loss: 1836.1181\n",
      "Epoch 17/80\n",
      "50000/50000 [==============================] - 315s - loss: 1828.7266 - val_loss: 1831.8744\n",
      "Epoch 18/80\n",
      "50000/50000 [==============================] - 317s - loss: 1828.3823 - val_loss: 1838.2341\n",
      "Epoch 19/80\n",
      "50000/50000 [==============================] - 385s - loss: 1827.9113 - val_loss: 1831.5964\n",
      "Epoch 20/80\n",
      "50000/50000 [==============================] - 390s - loss: 1827.3438 - val_loss: 1831.5130\n",
      "Epoch 21/80\n",
      "50000/50000 [==============================] - 365s - loss: 1826.9742 - val_loss: 1831.9959\n",
      "Epoch 22/80\n",
      "50000/50000 [==============================] - 360s - loss: 1826.7896 - val_loss: 1831.4189\n",
      "Epoch 23/80\n",
      "50000/50000 [==============================] - 364s - loss: 1826.2080 - val_loss: 1833.5963\n",
      "Epoch 24/80\n",
      "50000/50000 [==============================] - 346s - loss: 1826.2678 - val_loss: 1832.5301\n",
      "Epoch 25/80\n",
      "50000/50000 [==============================] - 379s - loss: 1825.6268 - val_loss: 1831.3754\n",
      "Epoch 26/80\n",
      "50000/50000 [==============================] - 382s - loss: 1825.5909 - val_loss: 1833.6276\n",
      "Epoch 27/80\n",
      "50000/50000 [==============================] - 382s - loss: 1825.5918 - val_loss: 1829.4979\n",
      "Epoch 28/80\n",
      "50000/50000 [==============================] - 337s - loss: 1824.8483 - val_loss: 1828.6454\n",
      "Epoch 29/80\n",
      "50000/50000 [==============================] - 351s - loss: 1824.8509 - val_loss: 1829.7033\n",
      "Epoch 30/80\n",
      "50000/50000 [==============================] - 331s - loss: 1824.4590 - val_loss: 1828.8245\n",
      "Epoch 31/80\n",
      "50000/50000 [==============================] - 299s - loss: 1824.2467 - val_loss: 1830.0662\n",
      "Epoch 32/80\n",
      "50000/50000 [==============================] - 305s - loss: 1824.2420 - val_loss: 1829.0986\n",
      "Epoch 33/80\n",
      "50000/50000 [==============================] - 317s - loss: 1823.9921 - val_loss: 1833.6458\n",
      "Epoch 34/80\n",
      "50000/50000 [==============================] - 680s - loss: 1823.8831 - val_loss: 1829.1995\n",
      "Epoch 35/80\n",
      "50000/50000 [==============================] - 1016s - loss: 1823.7572 - val_loss: 1828.5193\n",
      "Epoch 36/80\n",
      " 8000/50000 [===>..........................] - ETA: 524s - loss: 1823.8407"
     ]
    },
    {
     "ename": "KeyboardInterrupt",
     "evalue": "",
     "output_type": "error",
     "traceback": [
      "\u001b[0;31m---------------------------------------------------------------------------\u001b[0m",
      "\u001b[0;31mKeyboardInterrupt\u001b[0m                         Traceback (most recent call last)",
      "\u001b[0;32m<ipython-input-56-15718cbc3405>\u001b[0m in \u001b[0;36m<module>\u001b[0;34m()\u001b[0m\n\u001b[0;32m----> 1\u001b[0;31m \u001b[0mconv_cvae\u001b[0m\u001b[0;34m.\u001b[0m\u001b[0mtrain\u001b[0m\u001b[0;34m(\u001b[0m\u001b[0mx_train10\u001b[0m\u001b[0;34m,\u001b[0m \u001b[0my_train10\u001b[0m\u001b[0;34m,\u001b[0m \u001b[0mx_test10\u001b[0m\u001b[0;34m,\u001b[0m \u001b[0my_test10\u001b[0m\u001b[0;34m,\u001b[0m \u001b[0mepochs\u001b[0m\u001b[0;34m=\u001b[0m\u001b[0;36m80\u001b[0m\u001b[0;34m)\u001b[0m\u001b[0;34m\u001b[0m\u001b[0m\n\u001b[0m",
      "\u001b[0;32m<ipython-input-43-4ea910bda652>\u001b[0m in \u001b[0;36mtrain\u001b[0;34m(self, x_train, y_train, x_test, y_test, epochs)\u001b[0m\n\u001b[1;32m     72\u001b[0m     \u001b[0;32mdef\u001b[0m \u001b[0mtrain\u001b[0m\u001b[0;34m(\u001b[0m\u001b[0mself\u001b[0m\u001b[0;34m,\u001b[0m \u001b[0mx_train\u001b[0m\u001b[0;34m,\u001b[0m \u001b[0my_train\u001b[0m\u001b[0;34m,\u001b[0m \u001b[0mx_test\u001b[0m\u001b[0;34m,\u001b[0m \u001b[0my_test\u001b[0m\u001b[0;34m,\u001b[0m \u001b[0mepochs\u001b[0m\u001b[0;34m=\u001b[0m\u001b[0;36m100\u001b[0m\u001b[0;34m)\u001b[0m\u001b[0;34m:\u001b[0m\u001b[0;34m\u001b[0m\u001b[0m\n\u001b[1;32m     73\u001b[0m         self.cvae.fit([x_train, y_train], x_train, batch_size=self.batch_size, epochs=epochs, \n\u001b[0;32m---> 74\u001b[0;31m                      validation_data=([x_test, y_test], x_test))\n\u001b[0m\u001b[1;32m     75\u001b[0m \u001b[0;34m\u001b[0m\u001b[0m\n\u001b[1;32m     76\u001b[0m     \u001b[0;32mdef\u001b[0m \u001b[0mgenerate_pic\u001b[0m\u001b[0;34m(\u001b[0m\u001b[0mself\u001b[0m\u001b[0;34m,\u001b[0m \u001b[0mz\u001b[0m\u001b[0;34m,\u001b[0m \u001b[0mans\u001b[0m\u001b[0;34m)\u001b[0m\u001b[0;34m:\u001b[0m\u001b[0;34m\u001b[0m\u001b[0m\n",
      "\u001b[0;32m~/au/7term/tensorflow/lib/python3.6/site-packages/keras/engine/training.py\u001b[0m in \u001b[0;36mfit\u001b[0;34m(self, x, y, batch_size, epochs, verbose, callbacks, validation_split, validation_data, shuffle, class_weight, sample_weight, initial_epoch, **kwargs)\u001b[0m\n\u001b[1;32m   1483\u001b[0m                               \u001b[0mval_f\u001b[0m\u001b[0;34m=\u001b[0m\u001b[0mval_f\u001b[0m\u001b[0;34m,\u001b[0m \u001b[0mval_ins\u001b[0m\u001b[0;34m=\u001b[0m\u001b[0mval_ins\u001b[0m\u001b[0;34m,\u001b[0m \u001b[0mshuffle\u001b[0m\u001b[0;34m=\u001b[0m\u001b[0mshuffle\u001b[0m\u001b[0;34m,\u001b[0m\u001b[0;34m\u001b[0m\u001b[0m\n\u001b[1;32m   1484\u001b[0m                               \u001b[0mcallback_metrics\u001b[0m\u001b[0;34m=\u001b[0m\u001b[0mcallback_metrics\u001b[0m\u001b[0;34m,\u001b[0m\u001b[0;34m\u001b[0m\u001b[0m\n\u001b[0;32m-> 1485\u001b[0;31m                               initial_epoch=initial_epoch)\n\u001b[0m\u001b[1;32m   1486\u001b[0m \u001b[0;34m\u001b[0m\u001b[0m\n\u001b[1;32m   1487\u001b[0m     \u001b[0;32mdef\u001b[0m \u001b[0mevaluate\u001b[0m\u001b[0;34m(\u001b[0m\u001b[0mself\u001b[0m\u001b[0;34m,\u001b[0m \u001b[0mx\u001b[0m\u001b[0;34m,\u001b[0m \u001b[0my\u001b[0m\u001b[0;34m,\u001b[0m \u001b[0mbatch_size\u001b[0m\u001b[0;34m=\u001b[0m\u001b[0;36m32\u001b[0m\u001b[0;34m,\u001b[0m \u001b[0mverbose\u001b[0m\u001b[0;34m=\u001b[0m\u001b[0;36m1\u001b[0m\u001b[0;34m,\u001b[0m \u001b[0msample_weight\u001b[0m\u001b[0;34m=\u001b[0m\u001b[0;32mNone\u001b[0m\u001b[0;34m)\u001b[0m\u001b[0;34m:\u001b[0m\u001b[0;34m\u001b[0m\u001b[0m\n",
      "\u001b[0;32m~/au/7term/tensorflow/lib/python3.6/site-packages/keras/engine/training.py\u001b[0m in \u001b[0;36m_fit_loop\u001b[0;34m(self, f, ins, out_labels, batch_size, epochs, verbose, callbacks, val_f, val_ins, shuffle, callback_metrics, initial_epoch)\u001b[0m\n\u001b[1;32m   1138\u001b[0m                 \u001b[0mbatch_logs\u001b[0m\u001b[0;34m[\u001b[0m\u001b[0;34m'size'\u001b[0m\u001b[0;34m]\u001b[0m \u001b[0;34m=\u001b[0m \u001b[0mlen\u001b[0m\u001b[0;34m(\u001b[0m\u001b[0mbatch_ids\u001b[0m\u001b[0;34m)\u001b[0m\u001b[0;34m\u001b[0m\u001b[0m\n\u001b[1;32m   1139\u001b[0m                 \u001b[0mcallbacks\u001b[0m\u001b[0;34m.\u001b[0m\u001b[0mon_batch_begin\u001b[0m\u001b[0;34m(\u001b[0m\u001b[0mbatch_index\u001b[0m\u001b[0;34m,\u001b[0m \u001b[0mbatch_logs\u001b[0m\u001b[0;34m)\u001b[0m\u001b[0;34m\u001b[0m\u001b[0m\n\u001b[0;32m-> 1140\u001b[0;31m                 \u001b[0mouts\u001b[0m \u001b[0;34m=\u001b[0m \u001b[0mf\u001b[0m\u001b[0;34m(\u001b[0m\u001b[0mins_batch\u001b[0m\u001b[0;34m)\u001b[0m\u001b[0;34m\u001b[0m\u001b[0m\n\u001b[0m\u001b[1;32m   1141\u001b[0m                 \u001b[0;32mif\u001b[0m \u001b[0;32mnot\u001b[0m \u001b[0misinstance\u001b[0m\u001b[0;34m(\u001b[0m\u001b[0mouts\u001b[0m\u001b[0;34m,\u001b[0m \u001b[0mlist\u001b[0m\u001b[0;34m)\u001b[0m\u001b[0;34m:\u001b[0m\u001b[0;34m\u001b[0m\u001b[0m\n\u001b[1;32m   1142\u001b[0m                     \u001b[0mouts\u001b[0m \u001b[0;34m=\u001b[0m \u001b[0;34m[\u001b[0m\u001b[0mouts\u001b[0m\u001b[0;34m]\u001b[0m\u001b[0;34m\u001b[0m\u001b[0m\n",
      "\u001b[0;32m~/au/7term/tensorflow/lib/python3.6/site-packages/keras/backend/tensorflow_backend.py\u001b[0m in \u001b[0;36m__call__\u001b[0;34m(self, inputs)\u001b[0m\n\u001b[1;32m   2073\u001b[0m         \u001b[0msession\u001b[0m \u001b[0;34m=\u001b[0m \u001b[0mget_session\u001b[0m\u001b[0;34m(\u001b[0m\u001b[0;34m)\u001b[0m\u001b[0;34m\u001b[0m\u001b[0m\n\u001b[1;32m   2074\u001b[0m         updated = session.run(self.outputs + [self.updates_op],\n\u001b[0;32m-> 2075\u001b[0;31m                               feed_dict=feed_dict)\n\u001b[0m\u001b[1;32m   2076\u001b[0m         \u001b[0;32mreturn\u001b[0m \u001b[0mupdated\u001b[0m\u001b[0;34m[\u001b[0m\u001b[0;34m:\u001b[0m\u001b[0mlen\u001b[0m\u001b[0;34m(\u001b[0m\u001b[0mself\u001b[0m\u001b[0;34m.\u001b[0m\u001b[0moutputs\u001b[0m\u001b[0;34m)\u001b[0m\u001b[0;34m]\u001b[0m\u001b[0;34m\u001b[0m\u001b[0m\n\u001b[1;32m   2077\u001b[0m \u001b[0;34m\u001b[0m\u001b[0m\n",
      "\u001b[0;32m~/au/7term/tensorflow/lib/python3.6/site-packages/tensorflow/python/client/session.py\u001b[0m in \u001b[0;36mrun\u001b[0;34m(self, fetches, feed_dict, options, run_metadata)\u001b[0m\n\u001b[1;32m    898\u001b[0m     \u001b[0;32mtry\u001b[0m\u001b[0;34m:\u001b[0m\u001b[0;34m\u001b[0m\u001b[0m\n\u001b[1;32m    899\u001b[0m       result = self._run(None, fetches, feed_dict, options_ptr,\n\u001b[0;32m--> 900\u001b[0;31m                          run_metadata_ptr)\n\u001b[0m\u001b[1;32m    901\u001b[0m       \u001b[0;32mif\u001b[0m \u001b[0mrun_metadata\u001b[0m\u001b[0;34m:\u001b[0m\u001b[0;34m\u001b[0m\u001b[0m\n\u001b[1;32m    902\u001b[0m         \u001b[0mproto_data\u001b[0m \u001b[0;34m=\u001b[0m \u001b[0mtf_session\u001b[0m\u001b[0;34m.\u001b[0m\u001b[0mTF_GetBuffer\u001b[0m\u001b[0;34m(\u001b[0m\u001b[0mrun_metadata_ptr\u001b[0m\u001b[0;34m)\u001b[0m\u001b[0;34m\u001b[0m\u001b[0m\n",
      "\u001b[0;32m~/au/7term/tensorflow/lib/python3.6/site-packages/tensorflow/python/client/session.py\u001b[0m in \u001b[0;36m_run\u001b[0;34m(self, handle, fetches, feed_dict, options, run_metadata)\u001b[0m\n\u001b[1;32m   1133\u001b[0m     \u001b[0;32mif\u001b[0m \u001b[0mfinal_fetches\u001b[0m \u001b[0;32mor\u001b[0m \u001b[0mfinal_targets\u001b[0m \u001b[0;32mor\u001b[0m \u001b[0;34m(\u001b[0m\u001b[0mhandle\u001b[0m \u001b[0;32mand\u001b[0m \u001b[0mfeed_dict_tensor\u001b[0m\u001b[0;34m)\u001b[0m\u001b[0;34m:\u001b[0m\u001b[0;34m\u001b[0m\u001b[0m\n\u001b[1;32m   1134\u001b[0m       results = self._do_run(handle, final_targets, final_fetches,\n\u001b[0;32m-> 1135\u001b[0;31m                              feed_dict_tensor, options, run_metadata)\n\u001b[0m\u001b[1;32m   1136\u001b[0m     \u001b[0;32melse\u001b[0m\u001b[0;34m:\u001b[0m\u001b[0;34m\u001b[0m\u001b[0m\n\u001b[1;32m   1137\u001b[0m       \u001b[0mresults\u001b[0m \u001b[0;34m=\u001b[0m \u001b[0;34m[\u001b[0m\u001b[0;34m]\u001b[0m\u001b[0;34m\u001b[0m\u001b[0m\n",
      "\u001b[0;32m~/au/7term/tensorflow/lib/python3.6/site-packages/tensorflow/python/client/session.py\u001b[0m in \u001b[0;36m_do_run\u001b[0;34m(self, handle, target_list, fetch_list, feed_dict, options, run_metadata)\u001b[0m\n\u001b[1;32m   1314\u001b[0m     \u001b[0;32mif\u001b[0m \u001b[0mhandle\u001b[0m \u001b[0;32mis\u001b[0m \u001b[0;32mNone\u001b[0m\u001b[0;34m:\u001b[0m\u001b[0;34m\u001b[0m\u001b[0m\n\u001b[1;32m   1315\u001b[0m       return self._do_call(_run_fn, feeds, fetches, targets, options,\n\u001b[0;32m-> 1316\u001b[0;31m                            run_metadata)\n\u001b[0m\u001b[1;32m   1317\u001b[0m     \u001b[0;32melse\u001b[0m\u001b[0;34m:\u001b[0m\u001b[0;34m\u001b[0m\u001b[0m\n\u001b[1;32m   1318\u001b[0m       \u001b[0;32mreturn\u001b[0m \u001b[0mself\u001b[0m\u001b[0;34m.\u001b[0m\u001b[0m_do_call\u001b[0m\u001b[0;34m(\u001b[0m\u001b[0m_prun_fn\u001b[0m\u001b[0;34m,\u001b[0m \u001b[0mhandle\u001b[0m\u001b[0;34m,\u001b[0m \u001b[0mfeeds\u001b[0m\u001b[0;34m,\u001b[0m \u001b[0mfetches\u001b[0m\u001b[0;34m)\u001b[0m\u001b[0;34m\u001b[0m\u001b[0m\n",
      "\u001b[0;32m~/au/7term/tensorflow/lib/python3.6/site-packages/tensorflow/python/client/session.py\u001b[0m in \u001b[0;36m_do_call\u001b[0;34m(self, fn, *args)\u001b[0m\n\u001b[1;32m   1320\u001b[0m   \u001b[0;32mdef\u001b[0m \u001b[0m_do_call\u001b[0m\u001b[0;34m(\u001b[0m\u001b[0mself\u001b[0m\u001b[0;34m,\u001b[0m \u001b[0mfn\u001b[0m\u001b[0;34m,\u001b[0m \u001b[0;34m*\u001b[0m\u001b[0margs\u001b[0m\u001b[0;34m)\u001b[0m\u001b[0;34m:\u001b[0m\u001b[0;34m\u001b[0m\u001b[0m\n\u001b[1;32m   1321\u001b[0m     \u001b[0;32mtry\u001b[0m\u001b[0;34m:\u001b[0m\u001b[0;34m\u001b[0m\u001b[0m\n\u001b[0;32m-> 1322\u001b[0;31m       \u001b[0;32mreturn\u001b[0m \u001b[0mfn\u001b[0m\u001b[0;34m(\u001b[0m\u001b[0;34m*\u001b[0m\u001b[0margs\u001b[0m\u001b[0;34m)\u001b[0m\u001b[0;34m\u001b[0m\u001b[0m\n\u001b[0m\u001b[1;32m   1323\u001b[0m     \u001b[0;32mexcept\u001b[0m \u001b[0merrors\u001b[0m\u001b[0;34m.\u001b[0m\u001b[0mOpError\u001b[0m \u001b[0;32mas\u001b[0m \u001b[0me\u001b[0m\u001b[0;34m:\u001b[0m\u001b[0;34m\u001b[0m\u001b[0m\n\u001b[1;32m   1324\u001b[0m       \u001b[0mmessage\u001b[0m \u001b[0;34m=\u001b[0m \u001b[0mcompat\u001b[0m\u001b[0;34m.\u001b[0m\u001b[0mas_text\u001b[0m\u001b[0;34m(\u001b[0m\u001b[0me\u001b[0m\u001b[0;34m.\u001b[0m\u001b[0mmessage\u001b[0m\u001b[0;34m)\u001b[0m\u001b[0;34m\u001b[0m\u001b[0m\n",
      "\u001b[0;32m~/au/7term/tensorflow/lib/python3.6/site-packages/tensorflow/python/client/session.py\u001b[0m in \u001b[0;36m_run_fn\u001b[0;34m(feed_dict, fetch_list, target_list, options, run_metadata)\u001b[0m\n\u001b[1;32m   1305\u001b[0m       \u001b[0mself\u001b[0m\u001b[0;34m.\u001b[0m\u001b[0m_extend_graph\u001b[0m\u001b[0;34m(\u001b[0m\u001b[0;34m)\u001b[0m\u001b[0;34m\u001b[0m\u001b[0m\n\u001b[1;32m   1306\u001b[0m       return self._call_tf_sessionrun(\n\u001b[0;32m-> 1307\u001b[0;31m           options, feed_dict, fetch_list, target_list, run_metadata)\n\u001b[0m\u001b[1;32m   1308\u001b[0m \u001b[0;34m\u001b[0m\u001b[0m\n\u001b[1;32m   1309\u001b[0m     \u001b[0;32mdef\u001b[0m \u001b[0m_prun_fn\u001b[0m\u001b[0;34m(\u001b[0m\u001b[0mhandle\u001b[0m\u001b[0;34m,\u001b[0m \u001b[0mfeed_dict\u001b[0m\u001b[0;34m,\u001b[0m \u001b[0mfetch_list\u001b[0m\u001b[0;34m)\u001b[0m\u001b[0;34m:\u001b[0m\u001b[0;34m\u001b[0m\u001b[0m\n",
      "\u001b[0;32m~/au/7term/tensorflow/lib/python3.6/site-packages/tensorflow/python/client/session.py\u001b[0m in \u001b[0;36m_call_tf_sessionrun\u001b[0;34m(self, options, feed_dict, fetch_list, target_list, run_metadata)\u001b[0m\n\u001b[1;32m   1407\u001b[0m       return tf_session.TF_SessionRun_wrapper(\n\u001b[1;32m   1408\u001b[0m           \u001b[0mself\u001b[0m\u001b[0;34m.\u001b[0m\u001b[0m_session\u001b[0m\u001b[0;34m,\u001b[0m \u001b[0moptions\u001b[0m\u001b[0;34m,\u001b[0m \u001b[0mfeed_dict\u001b[0m\u001b[0;34m,\u001b[0m \u001b[0mfetch_list\u001b[0m\u001b[0;34m,\u001b[0m \u001b[0mtarget_list\u001b[0m\u001b[0;34m,\u001b[0m\u001b[0;34m\u001b[0m\u001b[0m\n\u001b[0;32m-> 1409\u001b[0;31m           run_metadata)\n\u001b[0m\u001b[1;32m   1410\u001b[0m     \u001b[0;32melse\u001b[0m\u001b[0;34m:\u001b[0m\u001b[0;34m\u001b[0m\u001b[0m\n\u001b[1;32m   1411\u001b[0m       \u001b[0;32mwith\u001b[0m \u001b[0merrors\u001b[0m\u001b[0;34m.\u001b[0m\u001b[0mraise_exception_on_not_ok_status\u001b[0m\u001b[0;34m(\u001b[0m\u001b[0;34m)\u001b[0m \u001b[0;32mas\u001b[0m \u001b[0mstatus\u001b[0m\u001b[0;34m:\u001b[0m\u001b[0;34m\u001b[0m\u001b[0m\n",
      "\u001b[0;31mKeyboardInterrupt\u001b[0m: "
     ]
    }
   ],
   "source": [
    "conv_cvae.train(x_train10, y_train10, x_test10, y_test10, epochs=80)"
   ]
  },
  {
   "cell_type": "code",
   "execution_count": 57,
   "metadata": {},
   "outputs": [
    {
     "name": "stdout",
     "output_type": "stream",
     "text": [
      "Training history\n"
     ]
    },
    {
     "data": {
      "text/plain": [
       "<matplotlib.text.Text at 0x1546590f0>"
      ]
     },
     "execution_count": 57,
     "metadata": {},
     "output_type": "execute_result"
    },
    {
     "data": {
      "image/png": "[encoded data removed]",
      "text/plain": [
       "<matplotlib.figure.Figure at 0x158f71eb8>"
      ]
     },
     "metadata": {},
     "output_type": "display_data"
    }
   ],
   "source": [
    "import matplotlib.pyplot as plt\n",
    "%matplotlib inline\n",
    "\n",
    "print(\"Training history\")\n",
    "fig = plt.figure(figsize=(10,4))\n",
    "ax1 = fig.add_subplot(1, 2, 1)\n",
    "plt.plot(conv_cvae.history().history['loss'])\n",
    "ax1.set_title('loss')\n",
    "ax2 = fig.add_subplot(1, 2, 2)\n",
    "plt.plot(conv_cvae.history().history['val_loss'])\n",
    "ax2.set_title('validation loss')"
   ]
  },
  {
   "cell_type": "code",
   "execution_count": 58,
   "metadata": {},
   "outputs": [
    {
     "data": {
      "image/png": "[encoded data removed]",
      "text/plain": [
       "<matplotlib.figure.Figure at 0x1549e2630>"
      ]
     },
     "metadata": {},
     "output_type": "display_data"
    }
   ],
   "source": [
    "from keras.utils import np_utils\n",
    "pic_size = 32\n",
    "\n",
    "z_sample = np.random.rand(1, latent_size) # random \n",
    "\n",
    "plt.figure(figsize=(20, 2))\n",
    "for i in range(10):\n",
    "    c = np_utils.to_categorical(i, y_train10.shape[1])\n",
    "    x_decoded = conv_cvae.generate_pic(z_sample, c)\n",
    "    pic = x_decoded[0].reshape(pic_size, pic_size, 3)\n",
    "\n",
    "    plt.subplot(1, y_train10.shape[1], i + 1)\n",
    "    plt.axis('off')\n",
    "    plt.imshow(pic)\n",
    "plt.show()"
   ]
  },
  {
   "cell_type": "code",
   "execution_count": 59,
   "metadata": {},
   "outputs": [
    {
     "data": {
      "image/png": "[encoded data removed]",
      "text/plain": [
       "<matplotlib.figure.Figure at 0x16c89fe10>"
      ]
     },
     "metadata": {},
     "output_type": "display_data"
    }
   ],
   "source": [
    "x_decoded = conv_cvae.enc_dec(x_train10[:1], y_train10[:1])\n",
    "\n",
    "plt.figure(figsize=(20, 2))\n",
    "\n",
    "plt.subplot(1, 2, 1)\n",
    "plt.axis('off')\n",
    "plt.imshow(x_train10[0])\n",
    "\n",
    "plt.subplot(1, 2, 2)\n",
    "plt.axis('off')\n",
    "plt.imshow(x_decoded[0])\n",
    "\n",
    "plt.show()"
   ]
  },
  {
   "cell_type": "markdown",
   "metadata": {},
   "source": [
    "# Dense CVAE on MNIST"
   ]
  },
  {
   "cell_type": "code",
   "execution_count": 34,
   "metadata": {},
   "outputs": [
    {
     "name": "stdout",
     "output_type": "stream",
     "text": [
      "WARNING:tensorflow:From <ipython-input-34-63f7c50ef951>:1: read_data_sets (from tensorflow.contrib.learn.python.learn.datasets.mnist) is deprecated and will be removed in a future version.\n",
      "Instructions for updating:\n",
      "Please use alternatives such as official/mnist/dataset.py from tensorflow/models.\n",
      "WARNING:tensorflow:From /Users/nadya-bu/au/7term/tensorflow/lib/python3.6/site-packages/tensorflow/contrib/learn/python/learn/datasets/mnist.py:260: maybe_download (from tensorflow.contrib.learn.python.learn.datasets.base) is deprecated and will be removed in a future version.\n",
      "Instructions for updating:\n",
      "Please write your own downloading logic.\n",
      "WARNING:tensorflow:From /Users/nadya-bu/au/7term/tensorflow/lib/python3.6/site-packages/tensorflow/contrib/learn/python/learn/datasets/mnist.py:262: extract_images (from tensorflow.contrib.learn.python.learn.datasets.mnist) is deprecated and will be removed in a future version.\n",
      "Instructions for updating:\n",
      "Please use tf.data to implement this functionality.\n",
      "Extracting MNIST_data/train-images-idx3-ubyte.gz\n",
      "WARNING:tensorflow:From /Users/nadya-bu/au/7term/tensorflow/lib/python3.6/site-packages/tensorflow/contrib/learn/python/learn/datasets/mnist.py:267: extract_labels (from tensorflow.contrib.learn.python.learn.datasets.mnist) is deprecated and will be removed in a future version.\n",
      "Instructions for updating:\n",
      "Please use tf.data to implement this functionality.\n",
      "Extracting MNIST_data/train-labels-idx1-ubyte.gz\n",
      "WARNING:tensorflow:From /Users/nadya-bu/au/7term/tensorflow/lib/python3.6/site-packages/tensorflow/contrib/learn/python/learn/datasets/mnist.py:110: dense_to_one_hot (from tensorflow.contrib.learn.python.learn.datasets.mnist) is deprecated and will be removed in a future version.\n",
      "Instructions for updating:\n",
      "Please use tf.one_hot on tensors.\n",
      "Extracting MNIST_data/t10k-images-idx3-ubyte.gz\n",
      "Extracting MNIST_data/t10k-labels-idx1-ubyte.gz\n",
      "WARNING:tensorflow:From /Users/nadya-bu/au/7term/tensorflow/lib/python3.6/site-packages/tensorflow/contrib/learn/python/learn/datasets/mnist.py:290: DataSet.__init__ (from tensorflow.contrib.learn.python.learn.datasets.mnist) is deprecated and will be removed in a future version.\n",
      "Instructions for updating:\n",
      "Please use alternatives such as official/mnist/dataset.py from tensorflow/models.\n"
     ]
    }
   ],
   "source": [
    "mnist = input_data.read_data_sets(\"MNIST_data/\", one_hot=True)\n",
    "\n",
    "x_train, y_train = mnist.train.images, mnist.train.labels\n",
    "x_test, y_test = mnist.test.images, mnist.test.labels"
   ]
  },
  {
   "cell_type": "code",
   "execution_count": 53,
   "metadata": {},
   "outputs": [],
   "source": [
    "x_train = x_train.reshape((x_train.shape[0], 28, 28, 1))\n",
    "x_test = x_test.reshape((x_test.shape[0], 28, 28, 1))\n",
    "dense_cvae = DenseCVAE(nbatch, (latent_size,), x_train.shape[1:], y_train.shape[1:])"
   ]
  },
  {
   "cell_type": "code",
   "execution_count": 54,
   "metadata": {},
   "outputs": [
    {
     "name": "stdout",
     "output_type": "stream",
     "text": [
      "Train on 55000 samples, validate on 10000 samples\n",
      "Epoch 1/100\n",
      "55000/55000 [==============================] - 27s - loss: 157.9547 - val_loss: 123.8569\n",
      "Epoch 2/100\n",
      "55000/55000 [==============================] - 25s - loss: 117.8575 - val_loss: 112.5329\n",
      "Epoch 3/100\n",
      "55000/55000 [==============================] - 26s - loss: 110.5610 - val_loss: 107.8058\n",
      "Epoch 4/100\n",
      "55000/55000 [==============================] - 26s - loss: 106.9492 - val_loss: 104.7613\n",
      "Epoch 5/100\n",
      "55000/55000 [==============================] - 26s - loss: 104.4549 - val_loss: 103.1350\n",
      "Epoch 6/100\n",
      "55000/55000 [==============================] - 26s - loss: 102.7975 - val_loss: 101.3555\n",
      "Epoch 7/100\n",
      "55000/55000 [==============================] - 26s - loss: 101.5357 - val_loss: 100.5839\n",
      "Epoch 8/100\n",
      "55000/55000 [==============================] - 26s - loss: 100.5443 - val_loss: 100.1194\n",
      "Epoch 9/100\n",
      "55000/55000 [==============================] - 27s - loss: 99.7767 - val_loss: 99.6552\n",
      "Epoch 10/100\n",
      "55000/55000 [==============================] - 24s - loss: 99.0942 - val_loss: 99.0107\n",
      "Epoch 11/100\n",
      "55000/55000 [==============================] - 24s - loss: 98.4973 - val_loss: 98.2730\n",
      "Epoch 12/100\n",
      "55000/55000 [==============================] - 24s - loss: 97.9807 - val_loss: 98.3412\n",
      "Epoch 13/100\n",
      "55000/55000 [==============================] - 24s - loss: 97.5268 - val_loss: 98.2571\n",
      "Epoch 14/100\n",
      "55000/55000 [==============================] - 25s - loss: 97.2154 - val_loss: 97.9112\n",
      "Epoch 15/100\n",
      "55000/55000 [==============================] - 25s - loss: 96.8119 - val_loss: 97.7236\n",
      "Epoch 16/100\n",
      "55000/55000 [==============================] - 25s - loss: 96.4222 - val_loss: 97.2435\n",
      "Epoch 17/100\n",
      "55000/55000 [==============================] - 24s - loss: 96.1838 - val_loss: 97.0357\n",
      "Epoch 18/100\n",
      "55000/55000 [==============================] - 25s - loss: 95.9839 - val_loss: 96.9098\n",
      "Epoch 19/100\n",
      "55000/55000 [==============================] - 24s - loss: 95.6581 - val_loss: 96.7085\n",
      "Epoch 20/100\n",
      "55000/55000 [==============================] - 25s - loss: 95.4723 - val_loss: 96.6099\n",
      "Epoch 21/100\n",
      "55000/55000 [==============================] - 24s - loss: 95.2599 - val_loss: 96.5830\n",
      "Epoch 22/100\n",
      "55000/55000 [==============================] - 24s - loss: 95.0158 - val_loss: 96.2048\n",
      "Epoch 23/100\n",
      "55000/55000 [==============================] - 24s - loss: 94.8427 - val_loss: 96.5141\n",
      "Epoch 24/100\n",
      "55000/55000 [==============================] - 25s - loss: 94.6849 - val_loss: 96.2956\n",
      "Epoch 25/100\n",
      "55000/55000 [==============================] - 24s - loss: 94.5357 - val_loss: 96.3096\n",
      "Epoch 26/100\n",
      "55000/55000 [==============================] - 24s - loss: 94.3691 - val_loss: 96.1455\n",
      "Epoch 27/100\n",
      "55000/55000 [==============================] - 24s - loss: 94.2072 - val_loss: 96.0136\n",
      "Epoch 28/100\n",
      "55000/55000 [==============================] - 24s - loss: 94.0991 - val_loss: 95.8007\n",
      "Epoch 29/100\n",
      "55000/55000 [==============================] - 24s - loss: 93.9607 - val_loss: 95.8776\n",
      "Epoch 30/100\n",
      "55000/55000 [==============================] - 24s - loss: 93.8199 - val_loss: 95.7960\n",
      "Epoch 31/100\n",
      "55000/55000 [==============================] - 27s - loss: 93.7022 - val_loss: 95.6396\n",
      "Epoch 32/100\n",
      "55000/55000 [==============================] - 26s - loss: 93.5866 - val_loss: 95.5794\n",
      "Epoch 33/100\n",
      "55000/55000 [==============================] - 30s - loss: 93.4813 - val_loss: 95.7864\n",
      "Epoch 34/100\n",
      "55000/55000 [==============================] - 29s - loss: 93.3594 - val_loss: 95.4847\n",
      "Epoch 35/100\n",
      "55000/55000 [==============================] - 26s - loss: 93.2616 - val_loss: 95.4185\n",
      "Epoch 36/100\n",
      "55000/55000 [==============================] - 26s - loss: 93.1728 - val_loss: 95.3320\n",
      "Epoch 37/100\n",
      "55000/55000 [==============================] - 26s - loss: 93.0888 - val_loss: 95.4538\n",
      "Epoch 38/100\n",
      "55000/55000 [==============================] - 24s - loss: 92.9910 - val_loss: 95.4108\n",
      "Epoch 39/100\n",
      "55000/55000 [==============================] - 24s - loss: 92.9011 - val_loss: 95.5330\n",
      "Epoch 40/100\n",
      "55000/55000 [==============================] - 24s - loss: 92.8376 - val_loss: 95.4139\n",
      "Epoch 41/100\n",
      "55000/55000 [==============================] - 24s - loss: 92.7610 - val_loss: 95.4283\n",
      "Epoch 42/100\n",
      "55000/55000 [==============================] - 24s - loss: 92.6782 - val_loss: 95.4808\n",
      "Epoch 43/100\n",
      "55000/55000 [==============================] - 24s - loss: 92.6543 - val_loss: 95.5652\n",
      "Epoch 44/100\n",
      "55000/55000 [==============================] - 24s - loss: 92.5487 - val_loss: 95.2056\n",
      "Epoch 45/100\n",
      "55000/55000 [==============================] - 24s - loss: 92.4552 - val_loss: 95.1770\n",
      "Epoch 46/100\n",
      "55000/55000 [==============================] - 24s - loss: 92.3950 - val_loss: 95.8510\n",
      "Epoch 47/100\n",
      "55000/55000 [==============================] - 25s - loss: 92.3061 - val_loss: 95.2182\n",
      "Epoch 48/100\n",
      "55000/55000 [==============================] - 24s - loss: 92.2724 - val_loss: 94.9668\n",
      "Epoch 49/100\n",
      "55000/55000 [==============================] - 24s - loss: 92.1824 - val_loss: 95.1158\n",
      "Epoch 50/100\n",
      "55000/55000 [==============================] - 24s - loss: 92.1628 - val_loss: 95.1727\n",
      "Epoch 51/100\n",
      "55000/55000 [==============================] - 24s - loss: 92.0805 - val_loss: 94.8554\n",
      "Epoch 52/100\n",
      "55000/55000 [==============================] - 24s - loss: 92.0115 - val_loss: 95.2899\n",
      "Epoch 53/100\n",
      "55000/55000 [==============================] - 24s - loss: 91.9237 - val_loss: 95.2170\n",
      "Epoch 54/100\n",
      "55000/55000 [==============================] - 24s - loss: 91.9089 - val_loss: 95.0356\n",
      "Epoch 55/100\n",
      "55000/55000 [==============================] - 26s - loss: 91.8678 - val_loss: 95.2899\n",
      "Epoch 56/100\n",
      "55000/55000 [==============================] - 25s - loss: 91.7812 - val_loss: 94.9605\n",
      "Epoch 57/100\n",
      "55000/55000 [==============================] - 25s - loss: 91.7876 - val_loss: 94.9971\n",
      "Epoch 58/100\n",
      "55000/55000 [==============================] - 25s - loss: 91.6935 - val_loss: 94.9701\n",
      "Epoch 59/100\n",
      "55000/55000 [==============================] - 26s - loss: 91.6573 - val_loss: 95.2912\n",
      "Epoch 60/100\n",
      "55000/55000 [==============================] - 24s - loss: 91.6274 - val_loss: 94.8851\n",
      "Epoch 61/100\n",
      "55000/55000 [==============================] - 24s - loss: 91.5017 - val_loss: 95.0184\n",
      "Epoch 62/100\n",
      "55000/55000 [==============================] - 24s - loss: 91.4561 - val_loss: 95.1055\n",
      "Epoch 63/100\n",
      "55000/55000 [==============================] - 24s - loss: 91.4191 - val_loss: 95.1836\n",
      "Epoch 64/100\n",
      "55000/55000 [==============================] - 25s - loss: 91.4034 - val_loss: 94.8271\n",
      "Epoch 65/100\n",
      "55000/55000 [==============================] - 27s - loss: 91.3608 - val_loss: 94.8828\n",
      "Epoch 66/100\n",
      "55000/55000 [==============================] - 29s - loss: 91.3274 - val_loss: 94.9906\n",
      "Epoch 67/100\n",
      "55000/55000 [==============================] - 29s - loss: 91.2982 - val_loss: 94.9279\n",
      "Epoch 68/100\n",
      "55000/55000 [==============================] - 28s - loss: 91.2507 - val_loss: 95.0246\n",
      "Epoch 69/100\n",
      "55000/55000 [==============================] - 28s - loss: 91.2147 - val_loss: 95.2428\n",
      "Epoch 70/100\n",
      "55000/55000 [==============================] - 28s - loss: 91.2130 - val_loss: 94.8969\n",
      "Epoch 71/100\n",
      "55000/55000 [==============================] - 26s - loss: 91.1351 - val_loss: 94.8377\n",
      "Epoch 72/100\n",
      "55000/55000 [==============================] - 27s - loss: 91.1092 - val_loss: 94.9836\n",
      "Epoch 73/100\n",
      "55000/55000 [==============================] - 28s - loss: 91.0687 - val_loss: 95.0802\n",
      "Epoch 74/100\n",
      "55000/55000 [==============================] - 28s - loss: 91.0384 - val_loss: 94.8957\n",
      "Epoch 75/100\n",
      "55000/55000 [==============================] - 28s - loss: 90.9468 - val_loss: 94.7205\n",
      "Epoch 76/100\n",
      "55000/55000 [==============================] - 28s - loss: 90.9123 - val_loss: 94.9643\n",
      "Epoch 77/100\n",
      "55000/55000 [==============================] - 27s - loss: 90.9391 - val_loss: 95.1189\n",
      "Epoch 78/100\n",
      "55000/55000 [==============================] - 28s - loss: 90.8888 - val_loss: 94.9333\n",
      "Epoch 79/100\n",
      "19700/55000 [=========>....................] - ETA: 19s - loss: 90.7102"
     ]
    },
    {
     "ename": "KeyboardInterrupt",
     "evalue": "",
     "output_type": "error",
     "traceback": [
      "\u001b[0;31m---------------------------------------------------------------------------\u001b[0m",
      "\u001b[0;31mKeyboardInterrupt\u001b[0m                         Traceback (most recent call last)",
      "\u001b[0;32m<ipython-input-54-b658b8568a62>\u001b[0m in \u001b[0;36m<module>\u001b[0;34m()\u001b[0m\n\u001b[0;32m----> 1\u001b[0;31m \u001b[0mdense_cvae\u001b[0m\u001b[0;34m.\u001b[0m\u001b[0mtrain\u001b[0m\u001b[0;34m(\u001b[0m\u001b[0mx_train\u001b[0m\u001b[0;34m,\u001b[0m \u001b[0my_train\u001b[0m\u001b[0;34m,\u001b[0m \u001b[0mx_test\u001b[0m\u001b[0;34m,\u001b[0m \u001b[0my_test\u001b[0m\u001b[0;34m)\u001b[0m\u001b[0;34m\u001b[0m\u001b[0m\n\u001b[0m",
      "\u001b[0;32m<ipython-input-44-48f0a28e5b1d>\u001b[0m in \u001b[0;36mtrain\u001b[0;34m(self, x_train, y_train, x_test, y_test, epochs)\u001b[0m\n\u001b[1;32m     72\u001b[0m     \u001b[0;32mdef\u001b[0m \u001b[0mtrain\u001b[0m\u001b[0;34m(\u001b[0m\u001b[0mself\u001b[0m\u001b[0;34m,\u001b[0m \u001b[0mx_train\u001b[0m\u001b[0;34m,\u001b[0m \u001b[0my_train\u001b[0m\u001b[0;34m,\u001b[0m \u001b[0mx_test\u001b[0m\u001b[0;34m,\u001b[0m \u001b[0my_test\u001b[0m\u001b[0;34m,\u001b[0m \u001b[0mepochs\u001b[0m\u001b[0;34m=\u001b[0m\u001b[0;36m100\u001b[0m\u001b[0;34m)\u001b[0m\u001b[0;34m:\u001b[0m\u001b[0;34m\u001b[0m\u001b[0m\n\u001b[1;32m     73\u001b[0m         self.cvae.fit([x_train, y_train], x_train, batch_size=self.batch_size, epochs=epochs, \n\u001b[0;32m---> 74\u001b[0;31m                      validation_data=([x_test, y_test], x_test))\n\u001b[0m\u001b[1;32m     75\u001b[0m \u001b[0;34m\u001b[0m\u001b[0m\n\u001b[1;32m     76\u001b[0m     \u001b[0;32mdef\u001b[0m \u001b[0mgenerate_pic\u001b[0m\u001b[0;34m(\u001b[0m\u001b[0mself\u001b[0m\u001b[0;34m,\u001b[0m \u001b[0mz\u001b[0m\u001b[0;34m,\u001b[0m \u001b[0mans\u001b[0m\u001b[0;34m)\u001b[0m\u001b[0;34m:\u001b[0m\u001b[0;34m\u001b[0m\u001b[0m\n",
      "\u001b[0;32m~/au/7term/tensorflow/lib/python3.6/site-packages/keras/engine/training.py\u001b[0m in \u001b[0;36mfit\u001b[0;34m(self, x, y, batch_size, epochs, verbose, callbacks, validation_split, validation_data, shuffle, class_weight, sample_weight, initial_epoch, **kwargs)\u001b[0m\n\u001b[1;32m   1483\u001b[0m                               \u001b[0mval_f\u001b[0m\u001b[0;34m=\u001b[0m\u001b[0mval_f\u001b[0m\u001b[0;34m,\u001b[0m \u001b[0mval_ins\u001b[0m\u001b[0;34m=\u001b[0m\u001b[0mval_ins\u001b[0m\u001b[0;34m,\u001b[0m \u001b[0mshuffle\u001b[0m\u001b[0;34m=\u001b[0m\u001b[0mshuffle\u001b[0m\u001b[0;34m,\u001b[0m\u001b[0;34m\u001b[0m\u001b[0m\n\u001b[1;32m   1484\u001b[0m                               \u001b[0mcallback_metrics\u001b[0m\u001b[0;34m=\u001b[0m\u001b[0mcallback_metrics\u001b[0m\u001b[0;34m,\u001b[0m\u001b[0;34m\u001b[0m\u001b[0m\n\u001b[0;32m-> 1485\u001b[0;31m                               initial_epoch=initial_epoch)\n\u001b[0m\u001b[1;32m   1486\u001b[0m \u001b[0;34m\u001b[0m\u001b[0m\n\u001b[1;32m   1487\u001b[0m     \u001b[0;32mdef\u001b[0m \u001b[0mevaluate\u001b[0m\u001b[0;34m(\u001b[0m\u001b[0mself\u001b[0m\u001b[0;34m,\u001b[0m \u001b[0mx\u001b[0m\u001b[0;34m,\u001b[0m \u001b[0my\u001b[0m\u001b[0;34m,\u001b[0m \u001b[0mbatch_size\u001b[0m\u001b[0;34m=\u001b[0m\u001b[0;36m32\u001b[0m\u001b[0;34m,\u001b[0m \u001b[0mverbose\u001b[0m\u001b[0;34m=\u001b[0m\u001b[0;36m1\u001b[0m\u001b[0;34m,\u001b[0m \u001b[0msample_weight\u001b[0m\u001b[0;34m=\u001b[0m\u001b[0;32mNone\u001b[0m\u001b[0;34m)\u001b[0m\u001b[0;34m:\u001b[0m\u001b[0;34m\u001b[0m\u001b[0m\n",
      "\u001b[0;32m~/au/7term/tensorflow/lib/python3.6/site-packages/keras/engine/training.py\u001b[0m in \u001b[0;36m_fit_loop\u001b[0;34m(self, f, ins, out_labels, batch_size, epochs, verbose, callbacks, val_f, val_ins, shuffle, callback_metrics, initial_epoch)\u001b[0m\n\u001b[1;32m   1138\u001b[0m                 \u001b[0mbatch_logs\u001b[0m\u001b[0;34m[\u001b[0m\u001b[0;34m'size'\u001b[0m\u001b[0;34m]\u001b[0m \u001b[0;34m=\u001b[0m \u001b[0mlen\u001b[0m\u001b[0;34m(\u001b[0m\u001b[0mbatch_ids\u001b[0m\u001b[0;34m)\u001b[0m\u001b[0;34m\u001b[0m\u001b[0m\n\u001b[1;32m   1139\u001b[0m                 \u001b[0mcallbacks\u001b[0m\u001b[0;34m.\u001b[0m\u001b[0mon_batch_begin\u001b[0m\u001b[0;34m(\u001b[0m\u001b[0mbatch_index\u001b[0m\u001b[0;34m,\u001b[0m \u001b[0mbatch_logs\u001b[0m\u001b[0;34m)\u001b[0m\u001b[0;34m\u001b[0m\u001b[0m\n\u001b[0;32m-> 1140\u001b[0;31m                 \u001b[0mouts\u001b[0m \u001b[0;34m=\u001b[0m \u001b[0mf\u001b[0m\u001b[0;34m(\u001b[0m\u001b[0mins_batch\u001b[0m\u001b[0;34m)\u001b[0m\u001b[0;34m\u001b[0m\u001b[0m\n\u001b[0m\u001b[1;32m   1141\u001b[0m                 \u001b[0;32mif\u001b[0m \u001b[0;32mnot\u001b[0m \u001b[0misinstance\u001b[0m\u001b[0;34m(\u001b[0m\u001b[0mouts\u001b[0m\u001b[0;34m,\u001b[0m \u001b[0mlist\u001b[0m\u001b[0;34m)\u001b[0m\u001b[0;34m:\u001b[0m\u001b[0;34m\u001b[0m\u001b[0m\n\u001b[1;32m   1142\u001b[0m                     \u001b[0mouts\u001b[0m \u001b[0;34m=\u001b[0m \u001b[0;34m[\u001b[0m\u001b[0mouts\u001b[0m\u001b[0;34m]\u001b[0m\u001b[0;34m\u001b[0m\u001b[0m\n",
      "\u001b[0;32m~/au/7term/tensorflow/lib/python3.6/site-packages/keras/backend/tensorflow_backend.py\u001b[0m in \u001b[0;36m__call__\u001b[0;34m(self, inputs)\u001b[0m\n\u001b[1;32m   2073\u001b[0m         \u001b[0msession\u001b[0m \u001b[0;34m=\u001b[0m \u001b[0mget_session\u001b[0m\u001b[0;34m(\u001b[0m\u001b[0;34m)\u001b[0m\u001b[0;34m\u001b[0m\u001b[0m\n\u001b[1;32m   2074\u001b[0m         updated = session.run(self.outputs + [self.updates_op],\n\u001b[0;32m-> 2075\u001b[0;31m                               feed_dict=feed_dict)\n\u001b[0m\u001b[1;32m   2076\u001b[0m         \u001b[0;32mreturn\u001b[0m \u001b[0mupdated\u001b[0m\u001b[0;34m[\u001b[0m\u001b[0;34m:\u001b[0m\u001b[0mlen\u001b[0m\u001b[0;34m(\u001b[0m\u001b[0mself\u001b[0m\u001b[0;34m.\u001b[0m\u001b[0moutputs\u001b[0m\u001b[0;34m)\u001b[0m\u001b[0;34m]\u001b[0m\u001b[0;34m\u001b[0m\u001b[0m\n\u001b[1;32m   2077\u001b[0m \u001b[0;34m\u001b[0m\u001b[0m\n",
      "\u001b[0;32m~/au/7term/tensorflow/lib/python3.6/site-packages/tensorflow/python/client/session.py\u001b[0m in \u001b[0;36mrun\u001b[0;34m(self, fetches, feed_dict, options, run_metadata)\u001b[0m\n\u001b[1;32m    898\u001b[0m     \u001b[0;32mtry\u001b[0m\u001b[0;34m:\u001b[0m\u001b[0;34m\u001b[0m\u001b[0m\n\u001b[1;32m    899\u001b[0m       result = self._run(None, fetches, feed_dict, options_ptr,\n\u001b[0;32m--> 900\u001b[0;31m                          run_metadata_ptr)\n\u001b[0m\u001b[1;32m    901\u001b[0m       \u001b[0;32mif\u001b[0m \u001b[0mrun_metadata\u001b[0m\u001b[0;34m:\u001b[0m\u001b[0;34m\u001b[0m\u001b[0m\n\u001b[1;32m    902\u001b[0m         \u001b[0mproto_data\u001b[0m \u001b[0;34m=\u001b[0m \u001b[0mtf_session\u001b[0m\u001b[0;34m.\u001b[0m\u001b[0mTF_GetBuffer\u001b[0m\u001b[0;34m(\u001b[0m\u001b[0mrun_metadata_ptr\u001b[0m\u001b[0;34m)\u001b[0m\u001b[0;34m\u001b[0m\u001b[0m\n",
      "\u001b[0;32m~/au/7term/tensorflow/lib/python3.6/site-packages/tensorflow/python/client/session.py\u001b[0m in \u001b[0;36m_run\u001b[0;34m(self, handle, fetches, feed_dict, options, run_metadata)\u001b[0m\n\u001b[1;32m   1133\u001b[0m     \u001b[0;32mif\u001b[0m \u001b[0mfinal_fetches\u001b[0m \u001b[0;32mor\u001b[0m \u001b[0mfinal_targets\u001b[0m \u001b[0;32mor\u001b[0m \u001b[0;34m(\u001b[0m\u001b[0mhandle\u001b[0m \u001b[0;32mand\u001b[0m \u001b[0mfeed_dict_tensor\u001b[0m\u001b[0;34m)\u001b[0m\u001b[0;34m:\u001b[0m\u001b[0;34m\u001b[0m\u001b[0m\n\u001b[1;32m   1134\u001b[0m       results = self._do_run(handle, final_targets, final_fetches,\n\u001b[0;32m-> 1135\u001b[0;31m                              feed_dict_tensor, options, run_metadata)\n\u001b[0m\u001b[1;32m   1136\u001b[0m     \u001b[0;32melse\u001b[0m\u001b[0;34m:\u001b[0m\u001b[0;34m\u001b[0m\u001b[0m\n\u001b[1;32m   1137\u001b[0m       \u001b[0mresults\u001b[0m \u001b[0;34m=\u001b[0m \u001b[0;34m[\u001b[0m\u001b[0;34m]\u001b[0m\u001b[0;34m\u001b[0m\u001b[0m\n",
      "\u001b[0;32m~/au/7term/tensorflow/lib/python3.6/site-packages/tensorflow/python/client/session.py\u001b[0m in \u001b[0;36m_do_run\u001b[0;34m(self, handle, target_list, fetch_list, feed_dict, options, run_metadata)\u001b[0m\n\u001b[1;32m   1314\u001b[0m     \u001b[0;32mif\u001b[0m \u001b[0mhandle\u001b[0m \u001b[0;32mis\u001b[0m \u001b[0;32mNone\u001b[0m\u001b[0;34m:\u001b[0m\u001b[0;34m\u001b[0m\u001b[0m\n\u001b[1;32m   1315\u001b[0m       return self._do_call(_run_fn, feeds, fetches, targets, options,\n\u001b[0;32m-> 1316\u001b[0;31m                            run_metadata)\n\u001b[0m\u001b[1;32m   1317\u001b[0m     \u001b[0;32melse\u001b[0m\u001b[0;34m:\u001b[0m\u001b[0;34m\u001b[0m\u001b[0m\n\u001b[1;32m   1318\u001b[0m       \u001b[0;32mreturn\u001b[0m \u001b[0mself\u001b[0m\u001b[0;34m.\u001b[0m\u001b[0m_do_call\u001b[0m\u001b[0;34m(\u001b[0m\u001b[0m_prun_fn\u001b[0m\u001b[0;34m,\u001b[0m \u001b[0mhandle\u001b[0m\u001b[0;34m,\u001b[0m \u001b[0mfeeds\u001b[0m\u001b[0;34m,\u001b[0m \u001b[0mfetches\u001b[0m\u001b[0;34m)\u001b[0m\u001b[0;34m\u001b[0m\u001b[0m\n",
      "\u001b[0;32m~/au/7term/tensorflow/lib/python3.6/site-packages/tensorflow/python/client/session.py\u001b[0m in \u001b[0;36m_do_call\u001b[0;34m(self, fn, *args)\u001b[0m\n\u001b[1;32m   1320\u001b[0m   \u001b[0;32mdef\u001b[0m \u001b[0m_do_call\u001b[0m\u001b[0;34m(\u001b[0m\u001b[0mself\u001b[0m\u001b[0;34m,\u001b[0m \u001b[0mfn\u001b[0m\u001b[0;34m,\u001b[0m \u001b[0;34m*\u001b[0m\u001b[0margs\u001b[0m\u001b[0;34m)\u001b[0m\u001b[0;34m:\u001b[0m\u001b[0;34m\u001b[0m\u001b[0m\n\u001b[1;32m   1321\u001b[0m     \u001b[0;32mtry\u001b[0m\u001b[0;34m:\u001b[0m\u001b[0;34m\u001b[0m\u001b[0m\n\u001b[0;32m-> 1322\u001b[0;31m       \u001b[0;32mreturn\u001b[0m \u001b[0mfn\u001b[0m\u001b[0;34m(\u001b[0m\u001b[0;34m*\u001b[0m\u001b[0margs\u001b[0m\u001b[0;34m)\u001b[0m\u001b[0;34m\u001b[0m\u001b[0m\n\u001b[0m\u001b[1;32m   1323\u001b[0m     \u001b[0;32mexcept\u001b[0m \u001b[0merrors\u001b[0m\u001b[0;34m.\u001b[0m\u001b[0mOpError\u001b[0m \u001b[0;32mas\u001b[0m \u001b[0me\u001b[0m\u001b[0;34m:\u001b[0m\u001b[0;34m\u001b[0m\u001b[0m\n\u001b[1;32m   1324\u001b[0m       \u001b[0mmessage\u001b[0m \u001b[0;34m=\u001b[0m \u001b[0mcompat\u001b[0m\u001b[0;34m.\u001b[0m\u001b[0mas_text\u001b[0m\u001b[0;34m(\u001b[0m\u001b[0me\u001b[0m\u001b[0;34m.\u001b[0m\u001b[0mmessage\u001b[0m\u001b[0;34m)\u001b[0m\u001b[0;34m\u001b[0m\u001b[0m\n",
      "\u001b[0;32m~/au/7term/tensorflow/lib/python3.6/site-packages/tensorflow/python/client/session.py\u001b[0m in \u001b[0;36m_run_fn\u001b[0;34m(feed_dict, fetch_list, target_list, options, run_metadata)\u001b[0m\n\u001b[1;32m   1305\u001b[0m       \u001b[0mself\u001b[0m\u001b[0;34m.\u001b[0m\u001b[0m_extend_graph\u001b[0m\u001b[0;34m(\u001b[0m\u001b[0;34m)\u001b[0m\u001b[0;34m\u001b[0m\u001b[0m\n\u001b[1;32m   1306\u001b[0m       return self._call_tf_sessionrun(\n\u001b[0;32m-> 1307\u001b[0;31m           options, feed_dict, fetch_list, target_list, run_metadata)\n\u001b[0m\u001b[1;32m   1308\u001b[0m \u001b[0;34m\u001b[0m\u001b[0m\n\u001b[1;32m   1309\u001b[0m     \u001b[0;32mdef\u001b[0m \u001b[0m_prun_fn\u001b[0m\u001b[0;34m(\u001b[0m\u001b[0mhandle\u001b[0m\u001b[0;34m,\u001b[0m \u001b[0mfeed_dict\u001b[0m\u001b[0;34m,\u001b[0m \u001b[0mfetch_list\u001b[0m\u001b[0;34m)\u001b[0m\u001b[0;34m:\u001b[0m\u001b[0;34m\u001b[0m\u001b[0m\n",
      "\u001b[0;32m~/au/7term/tensorflow/lib/python3.6/site-packages/tensorflow/python/client/session.py\u001b[0m in \u001b[0;36m_call_tf_sessionrun\u001b[0;34m(self, options, feed_dict, fetch_list, target_list, run_metadata)\u001b[0m\n\u001b[1;32m   1407\u001b[0m       return tf_session.TF_SessionRun_wrapper(\n\u001b[1;32m   1408\u001b[0m           \u001b[0mself\u001b[0m\u001b[0;34m.\u001b[0m\u001b[0m_session\u001b[0m\u001b[0;34m,\u001b[0m \u001b[0moptions\u001b[0m\u001b[0;34m,\u001b[0m \u001b[0mfeed_dict\u001b[0m\u001b[0;34m,\u001b[0m \u001b[0mfetch_list\u001b[0m\u001b[0;34m,\u001b[0m \u001b[0mtarget_list\u001b[0m\u001b[0;34m,\u001b[0m\u001b[0;34m\u001b[0m\u001b[0m\n\u001b[0;32m-> 1409\u001b[0;31m           run_metadata)\n\u001b[0m\u001b[1;32m   1410\u001b[0m     \u001b[0;32melse\u001b[0m\u001b[0;34m:\u001b[0m\u001b[0;34m\u001b[0m\u001b[0m\n\u001b[1;32m   1411\u001b[0m       \u001b[0;32mwith\u001b[0m \u001b[0merrors\u001b[0m\u001b[0;34m.\u001b[0m\u001b[0mraise_exception_on_not_ok_status\u001b[0m\u001b[0;34m(\u001b[0m\u001b[0;34m)\u001b[0m \u001b[0;32mas\u001b[0m \u001b[0mstatus\u001b[0m\u001b[0;34m:\u001b[0m\u001b[0;34m\u001b[0m\u001b[0m\n",
      "\u001b[0;31mKeyboardInterrupt\u001b[0m: "
     ]
    }
   ],
   "source": [
    "dense_cvae.train(x_train, y_train, x_test, y_test)"
   ]
  },
  {
   "cell_type": "code",
   "execution_count": 55,
   "metadata": {},
   "outputs": [
    {
     "name": "stdout",
     "output_type": "stream",
     "text": [
      "Training history\n"
     ]
    },
    {
     "data": {
      "text/plain": [
       "<matplotlib.text.Text at 0x1189dda90>"
      ]
     },
     "execution_count": 55,
     "metadata": {},
     "output_type": "execute_result"
    },
    {
     "data": {
      "image/png": "[encoded data removed]",
      "text/plain": [
       "<matplotlib.figure.Figure at 0x116f4e8d0>"
      ]
     },
     "metadata": {},
     "output_type": "display_data"
    }
   ],
   "source": [
    "import matplotlib.pyplot as plt\n",
    "%matplotlib inline\n",
    "\n",
    "print(\"Training history\")\n",
    "fig = plt.figure(figsize=(10,4))\n",
    "ax1 = fig.add_subplot(1, 2, 1)\n",
    "plt.plot(dense_cvae.history().history['loss'])\n",
    "ax1.set_title('loss')\n",
    "ax2 = fig.add_subplot(1, 2, 2)\n",
    "plt.plot(dense_cvae.history().history['val_loss'])\n",
    "ax2.set_title('validation loss')"
   ]
  },
  {
   "cell_type": "code",
   "execution_count": 56,
   "metadata": {},
   "outputs": [
    {
     "data": {
      "image/png": "[encoded data removed]",
      "text/plain": [
       "<matplotlib.figure.Figure at 0x118a20a20>"
      ]
     },
     "metadata": {},
     "output_type": "display_data"
    }
   ],
   "source": [
    "from keras.utils import np_utils\n",
    "\n",
    "pic_size = 28\n",
    "\n",
    "z_sample = np.random.rand(1, latent_size) # random \n",
    "\n",
    "plt.figure(figsize=(20, 2))\n",
    "for i in range(10):\n",
    "    c = np_utils.to_categorical(i, y_train.shape[1])\n",
    "    x_decoded = dense_cvae.generate_pic(z_sample, c)\n",
    "    digit = x_decoded[0].reshape(pic_size, pic_size)\n",
    "\n",
    "    plt.subplot(1, y_train.shape[1], i + 1)\n",
    "    plt.axis('off')\n",
    "    plt.imshow(digit, cmap='Greys_r')\n",
    "plt.show()"
   ]
  },
  {
   "cell_type": "code",
   "execution_count": 57,
   "metadata": {},
   "outputs": [
    {
     "data": {
      "image/png": "[encoded data removed]",
      "text/plain": [
       "<matplotlib.figure.Figure at 0x118a20978>"
      ]
     },
     "metadata": {},
     "output_type": "display_data"
    }
   ],
   "source": [
    "x_decoded = dense_cvae.enc_dec(x_train[:1], y_train[:1])\n",
    "\n",
    "plt.figure(figsize=(20, 2))\n",
    "\n",
    "plt.subplot(1, 2, 1)\n",
    "plt.axis('off')\n",
    "plt.imshow(x_train[0].reshape(pic_size, pic_size), cmap='Greys_r')\n",
    "\n",
    "plt.subplot(1, 2, 2)\n",
    "plt.axis('off')\n",
    "plt.imshow(x_decoded[0].reshape(pic_size, pic_size), cmap='Greys_r')\n",
    "\n",
    "plt.show()"
   ]
  },
  {
   "cell_type": "code",
   "execution_count": null,
   "metadata": {},
   "outputs": [],
   "source": []
  }
 ],
 "metadata": {
  "kernelspec": {
   "display_name": "tensorflow",
   "language": "python",
   "name": "tensorflow"
  },
  "language_info": {
   "codemirror_mode": {
    "name": "ipython",
    "version": 3
   },
   "file_extension": ".py",
   "mimetype": "text/x-python",
   "name": "python",
   "nbconvert_exporter": "python",
   "pygments_lexer": "ipython3",
   "version": "3.6.1"
  }
 },
 "nbformat": 4,
 "nbformat_minor": 2
}
