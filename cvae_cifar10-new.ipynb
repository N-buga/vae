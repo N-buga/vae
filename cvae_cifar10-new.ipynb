{
 "cells": [
  {
   "cell_type": "code",
   "execution_count": 1,
   "metadata": {},
   "outputs": [
    {
     "name": "stderr",
     "output_type": "stream",
     "text": [
      "/Users/nadya-bu/au/7term/tensorflow/lib/python3.6/site-packages/h5py/__init__.py:36: FutureWarning: Conversion of the second argument of issubdtype from `float` to `np.floating` is deprecated. In future, it will be treated as `np.float64 == np.dtype(float).type`.\n",
      "  from ._conv import register_converters as _register_converters\n",
      "Using TensorFlow backend.\n"
     ]
    }
   ],
   "source": [
    "import numpy as np\n",
    "from tensorflow.examples.tutorials.mnist import input_data\n",
    "import tensorflow as tf\n",
    "from keras import backend as K\n",
    "from keras import layers\n",
    "from keras.utils.np_utils import to_categorical   \n",
    "from keras import models, optimizers\n",
    "from keras import metrics\n",
    "from keras.datasets import cifar10"
   ]
  },
  {
   "cell_type": "code",
   "execution_count": 2,
   "metadata": {},
   "outputs": [],
   "source": [
    "original_img_size = (32, 32, 3)"
   ]
  },
  {
   "cell_type": "code",
   "execution_count": 4,
   "metadata": {},
   "outputs": [],
   "source": [
    "(x_train, y_train), (x_test, y_test) = cifar10.load_data()\n",
    "x_train = x_train.astype('float32') / 255.\n",
    "x_test = x_test.astype('float32') / 255."
   ]
  },
  {
   "cell_type": "code",
   "execution_count": 5,
   "metadata": {},
   "outputs": [
    {
     "data": {
      "text/plain": [
       "((50000, 32, 32, 3), (50000, 1), (10000, 32, 32, 3), (10000, 1))"
      ]
     },
     "execution_count": 5,
     "metadata": {},
     "output_type": "execute_result"
    }
   ],
   "source": [
    "x_train.shape, y_train.shape, x_test.shape, y_test.shape"
   ]
  },
  {
   "cell_type": "code",
   "execution_count": 147,
   "metadata": {},
   "outputs": [],
   "source": [
    "def get_only_classes(classes, x, y):\n",
    "    index = y == classes[0]\n",
    "    for clazz in classes[1:]:\n",
    "        index = np.logical_or(index, y == clazz)\n",
    "        \n",
    "    index = index.squeeze()\n",
    "        \n",
    "    new_x = x[index]\n",
    "    new_y = to_categorical(y[index], len(classes))\n",
    "    \n",
    "    p = np.random.permutation(new_x.shape[0])\n",
    "    return new_x[p], new_y[p]"
   ]
  },
  {
   "cell_type": "code",
   "execution_count": 148,
   "metadata": {},
   "outputs": [
    {
     "data": {
      "text/plain": [
       "((50000, 32, 32, 3), (50000, 10), (10000, 32, 32, 3), (10000, 10))"
      ]
     },
     "execution_count": 148,
     "metadata": {},
     "output_type": "execute_result"
    }
   ],
   "source": [
    "x_train10, y_train10 = get_only_classes(list(range(10)), x_train, y_train)\n",
    "x_test10, y_test10 = get_only_classes(list(range(10)), x_test, y_test)\n",
    "x_train10.shape, y_train10.shape, x_test10.shape, y_test10.shape"
   ]
  },
  {
   "cell_type": "code",
   "execution_count": 149,
   "metadata": {},
   "outputs": [
    {
     "data": {
      "text/plain": [
       "((10000, 32, 32, 3), (10000, 2), (2000, 32, 32, 3), (2000, 2))"
      ]
     },
     "execution_count": 149,
     "metadata": {},
     "output_type": "execute_result"
    }
   ],
   "source": [
    "x_train2, y_train2 = get_only_classes(list(range(2)), x_train, y_train)\n",
    "x_test2, y_test2 = get_only_classes(list(range(2)), x_test, y_test)\n",
    "x_train2.shape, y_train2.shape, x_test2.shape, y_test2.shape"
   ]
  },
  {
   "cell_type": "code",
   "execution_count": 150,
   "metadata": {},
   "outputs": [
    {
     "data": {
      "text/plain": [
       "((5000, 32, 32, 3), (5000, 1), (1000, 32, 32, 3), (1000, 1))"
      ]
     },
     "execution_count": 150,
     "metadata": {},
     "output_type": "execute_result"
    }
   ],
   "source": [
    "x_train1, y_train1 = get_only_classes(list(range(1)), x_train, y_train)\n",
    "x_test1, y_test1 = get_only_classes(list(range(1)), x_test, y_test)\n",
    "x_train1.shape, y_train1.shape, x_test1.shape, y_test1.shape"
   ]
  },
  {
   "cell_type": "code",
   "execution_count": 152,
   "metadata": {},
   "outputs": [],
   "source": [
    "nbatch = 100\n",
    "latent_size = 30"
   ]
  },
  {
   "cell_type": "code",
   "execution_count": 175,
   "metadata": {},
   "outputs": [],
   "source": [
    "class base_CVAE():\n",
    "    def  __init__(self, batch_size, latent_size, original_dim, ans_size, step=None):\n",
    "        self.batch_size = batch_size\n",
    "        self.latent_size = latent_size\n",
    "        self.original_dim = original_dim\n",
    "        self.ans_size = ans_size\n",
    "        \n",
    "        pic_input = layers.Input(shape=original_dim)\n",
    "        ans_input = layers.Input(shape=ans_size)\n",
    "        z_input = layers.Input(shape=latent_size)\n",
    "        \n",
    "        self.init_pic_encoder_layers()\n",
    "        self.init_encoder_layers()\n",
    "        self.init_decoder_layers()\n",
    "        \n",
    "        z, mu = self.encode(pic_input, ans_input)\n",
    "        decode = self.decode(z, ans_input)\n",
    "        self.cvae = models.Model([pic_input, ans_input], decode)\n",
    "        if step is not None:\n",
    "            self.cvae.compile(optimizer=\"adam\", loss=self.vae_loss, step=step)\n",
    "        else:\n",
    "            self.cvae.compile(optimizer=\"adam\", loss=self.vae_loss)\n",
    "        \n",
    "        self.encoder = models.Model([pic_input, ans_input], [z, mu])\n",
    "        \n",
    "        dec_out = self.decode(z_input, ans_input)\n",
    "        self.generator = models.Model([z_input, ans_input], dec_out)\n",
    "        \n",
    "    def history(self):\n",
    "        return self.cvae.history\n",
    "\n",
    "    def init_pic_encoder_layers(self):\n",
    "        pass\n",
    "    \n",
    "    def init_encoder_layers(self):\n",
    "        with tf.name_scope(\"en\"):\n",
    "            self.dense_en_cond = layers.Dense(512, activation='relu')\n",
    "            self.dense_mu = layers.Dense(latent_size, activation='linear')\n",
    "            self.dense_log_sigma = layers.Dense(latent_size, activation='linear')\n",
    "\n",
    "    def init_decoder_layers(self):\n",
    "        pass\n",
    "    \n",
    "    def encode_pic(self, pic_input):\n",
    "        pass\n",
    "\n",
    "    def encode(self, pic_input, ans):\n",
    "        pic_enc = self.encode_pic(pic_input)\n",
    "        cond_input = layers.concatenate([pic_enc, ans], axis=1)\n",
    "        enc1 = self.dense_en_cond(cond_input)\n",
    "        self.mu = self.dense_mu(enc1)\n",
    "        self.log_sigma = self.dense_log_sigma(enc1)\n",
    "    \n",
    "        def eval_z(z_params):\n",
    "            mu, log_sigma = z_params\n",
    "            batch_dim = tf.reshape(K.shape(mu)[0], (1,))\n",
    "            latent_dim = tf.reshape(tf.convert_to_tensor([self.latent_size]), (1,))\n",
    "            random_shape = tf.concat([batch_dim, latent_dim], axis=0)\n",
    "            eps = K.random_normal(random_shape)\n",
    "            z = mu + K.exp(log_sigma / 2) * eps\n",
    "            return z\n",
    "           \n",
    "        return layers.Lambda(eval_z)([self.mu, self.log_sigma]), self.mu\n",
    "\n",
    "    def vae_loss(self, y_true, y_pred):\n",
    "        y_true = K.reshape(y_true, (K.shape(y_true)[0], -1))\n",
    "        y_pred = K.reshape(y_pred, (K.shape(y_pred)[0], -1))\n",
    "        xent_loss = K.sum(K.binary_crossentropy(y_pred, y_true), axis=1)\n",
    "        kl_loss = 0.5 * K.sum(K.exp(self.log_sigma) + K.square(self.mu) - 1. - self.log_sigma, axis=1)\n",
    "        return xent_loss + kl_loss\n",
    "    \n",
    "    def train(self, x_train, y_train, x_test, y_test):\n",
    "        self.cvae.fit([x_train, y_train], x_train, batch_size=self.batch_size, epochs=80, \n",
    "                     validation_data=([x_test, y_test], x_test))\n",
    "        \n",
    "    def generate_pic(self, z, ans):\n",
    "        return self.generator.predict([z, ans])\n",
    "    \n",
    "    def get_z(self, pic, ans):\n",
    "        return self.encoder.predict([pic, ans])[0]\n",
    "    \n",
    "    def get_mu(self, pic, ans):\n",
    "        return self.encoder.predict([pic, ans])[1]        \n",
    "\n",
    "    def enc_dec(self, pic, ans):\n",
    "        return self.generate_pic(self.get_mu(pic, ans), ans)"
   ]
  },
  {
   "cell_type": "code",
   "execution_count": 176,
   "metadata": {},
   "outputs": [],
   "source": [
    "class ConvCVAE(base_CVAE):\n",
    "    def  __init__(self, batch_size, latent_size, original_dim, ans_size, step=None):\n",
    "        super(ConvCVAE, self).__init__(batch_size, latent_size, original_dim, ans_size, step)        \n",
    "        \n",
    "    def init_pic_encoder_layers(self):\n",
    "        with tf.name_scope(\"en_pic\"):\n",
    "            self.en_pic_model = models.Sequential([\n",
    "                layers.Conv2D(3, kernel_size=(2, 2), padding='same', activation='relu', input_shape=self.original_dim),\n",
    "                layers.Conv2D(32, kernel_size=(2, 2), padding='same', activation='relu', strides=(2, 2)),\n",
    "                layers.BatchNormalization(),\n",
    "                layers.Conv2D(32, kernel_size=(3, 3), padding='same', activation='relu'),\n",
    "                layers.Conv2D(32, kernel_size=(3, 3), padding='same', activation='relu'),\n",
    "                layers.Flatten()\n",
    "            ])\n",
    "                        \n",
    "    def init_decoder_layers(self):\n",
    "        with tf.name_scope(\"dec\"):\n",
    "            self.dec_model = models.Sequential([\n",
    "                layers.Dense(512, activation='relu', input_shape=(self.latent_size[0] + self.ans_size[0],)),\n",
    "                layers.Dense(int(x_train.shape[1]/2*x_train.shape[2]/2*x_train.shape[3]), activation='relu'),\n",
    "                layers.Reshape((int(x_train.shape[1]/2), int(x_train.shape[2]/2), x_train.shape[3])),\n",
    "                layers.Conv2DTranspose(32, kernel_size=(3, 3), padding='same', activation='relu'),\n",
    "                layers.Conv2DTranspose(32, kernel_size=(3, 3), padding='same', activation='relu'),\n",
    "                layers.BatchNormalization(),\n",
    "                layers.Conv2DTranspose(32, kernel_size=(3, 3), strides=(2, 2), padding='valid', activation='relu'),\n",
    "                layers.Conv2D(3, kernel_size=(2, 2), padding='valid', activation='sigmoid')\n",
    "            ])\n",
    "        \n",
    "    def encode_pic(self, pic_input):\n",
    "        return self.en_pic_model(pic_input)\n",
    "        \n",
    "    def decode(self, z, ans):\n",
    "        z_cond = layers.concatenate([z, ans], axis=1)\n",
    "        return self.dec_model(z_cond)"
   ]
  },
  {
   "cell_type": "code",
   "execution_count": 177,
   "metadata": {},
   "outputs": [],
   "source": [
    "class DenseCVAE(base_CVAE):\n",
    "    def  __init__(self, batch_size, latent_size, original_dim, ans_size, step=None):\n",
    "        super(DenseCVAE, self).__init__(batch_size, latent_size, original_dim, ans_size, step)        \n",
    "\n",
    "    def init_pic_encoder_layers(self):\n",
    "        with tf.name_scope(\"en_pic\"):\n",
    "            self.en_pic_model = models.Sequential([\n",
    "                layers.Flatten(input_shape=self.original_dim),\n",
    "                layers.Dense(512, activation='relu'),\n",
    "                layers.Dense(512, activation='relu')\n",
    "            ])\n",
    "            \n",
    "    def init_decoder_layers(self):\n",
    "        with tf.name_scope(\"dec\"):\n",
    "            self.dec_model = models.Sequential([\n",
    "                layers.Dense(512, activation='relu', input_shape=(self.latent_size[0] + self.ans_size[0],)),\n",
    "                layers.Dense(512, activation='relu'),\n",
    "                layers.Dense(x_train.shape[1] * x_train.shape[2] * x_train.shape[3], activation='sigmoid'),\n",
    "                layers.Reshape((x_train.shape[1], x_train.shape[2], x_train.shape[3]))\n",
    "            ])\n",
    "        \n",
    "    def encode_pic(self, pic_input):\n",
    "        return self.en_pic_model(pic_input)\n",
    "    \n",
    "    def decode(self, z, ans):\n",
    "        z_cond = layers.concatenate([z, ans], axis=1)\n",
    "        return self.dec_model(z_cond)"
   ]
  },
  {
   "cell_type": "code",
   "execution_count": 174,
   "metadata": {},
   "outputs": [],
   "source": [
    "dense_cvae = DenseCVAE(nbatch, (latent_size,), x_train2.shape[1:], y_train2.shape[1:])"
   ]
  },
  {
   "cell_type": "code",
   "execution_count": 157,
   "metadata": {},
   "outputs": [],
   "source": [
    "from keras.utils import plot_model\n",
    "plot_model(dense_cvae.cvae, to_file='dense_model.png')\n",
    "plot_model(conv_cvae.cvae, to_file='conv_model.png')"
   ]
  },
  {
   "cell_type": "markdown",
   "metadata": {},
   "source": [
    "# DenseCVAE"
   ]
  },
  {
   "cell_type": "code",
   "execution_count": 151,
   "metadata": {},
   "outputs": [
    {
     "ename": "ValueError",
     "evalue": "Error when checking model input: expected input_104 to have shape (None, 1) but got array with shape (10000, 2)",
     "output_type": "error",
     "traceback": [
      "\u001b[0;31m---------------------------------------------------------------------------\u001b[0m",
      "\u001b[0;31mValueError\u001b[0m                                Traceback (most recent call last)",
      "\u001b[0;32m<ipython-input-151-532873835ebf>\u001b[0m in \u001b[0;36m<module>\u001b[0;34m()\u001b[0m\n\u001b[0;32m----> 1\u001b[0;31m \u001b[0mdense_cvae\u001b[0m\u001b[0;34m.\u001b[0m\u001b[0mtrain\u001b[0m\u001b[0;34m(\u001b[0m\u001b[0mx_train2\u001b[0m\u001b[0;34m,\u001b[0m \u001b[0my_train2\u001b[0m\u001b[0;34m,\u001b[0m \u001b[0mx_test2\u001b[0m\u001b[0;34m,\u001b[0m \u001b[0my_test2\u001b[0m\u001b[0;34m)\u001b[0m\u001b[0;34m\u001b[0m\u001b[0m\n\u001b[0m",
      "\u001b[0;32m<ipython-input-137-99a32b1bdbc6>\u001b[0m in \u001b[0;36mtrain\u001b[0;34m(self, x_train, y_train, x_test, y_test)\u001b[0m\n\u001b[1;32m     72\u001b[0m     \u001b[0;32mdef\u001b[0m \u001b[0mtrain\u001b[0m\u001b[0;34m(\u001b[0m\u001b[0mself\u001b[0m\u001b[0;34m,\u001b[0m \u001b[0mx_train\u001b[0m\u001b[0;34m,\u001b[0m \u001b[0my_train\u001b[0m\u001b[0;34m,\u001b[0m \u001b[0mx_test\u001b[0m\u001b[0;34m,\u001b[0m \u001b[0my_test\u001b[0m\u001b[0;34m)\u001b[0m\u001b[0;34m:\u001b[0m\u001b[0;34m\u001b[0m\u001b[0m\n\u001b[1;32m     73\u001b[0m         self.cvae.fit([x_train, y_train], x_train, batch_size=self.batch_size, epochs=200, \n\u001b[0;32m---> 74\u001b[0;31m                      validation_data=([x_test, y_test], x_test))\n\u001b[0m\u001b[1;32m     75\u001b[0m \u001b[0;34m\u001b[0m\u001b[0m\n\u001b[1;32m     76\u001b[0m     \u001b[0;32mdef\u001b[0m \u001b[0mgenerate_pic\u001b[0m\u001b[0;34m(\u001b[0m\u001b[0mself\u001b[0m\u001b[0;34m,\u001b[0m \u001b[0mz\u001b[0m\u001b[0;34m,\u001b[0m \u001b[0mans\u001b[0m\u001b[0;34m)\u001b[0m\u001b[0;34m:\u001b[0m\u001b[0;34m\u001b[0m\u001b[0m\n",
      "\u001b[0;32m~/au/7term/tensorflow/lib/python3.6/site-packages/keras/engine/training.py\u001b[0m in \u001b[0;36mfit\u001b[0;34m(self, x, y, batch_size, epochs, verbose, callbacks, validation_split, validation_data, shuffle, class_weight, sample_weight, initial_epoch, **kwargs)\u001b[0m\n\u001b[1;32m   1403\u001b[0m             \u001b[0mclass_weight\u001b[0m\u001b[0;34m=\u001b[0m\u001b[0mclass_weight\u001b[0m\u001b[0;34m,\u001b[0m\u001b[0;34m\u001b[0m\u001b[0m\n\u001b[1;32m   1404\u001b[0m             \u001b[0mcheck_batch_axis\u001b[0m\u001b[0;34m=\u001b[0m\u001b[0;32mFalse\u001b[0m\u001b[0;34m,\u001b[0m\u001b[0;34m\u001b[0m\u001b[0m\n\u001b[0;32m-> 1405\u001b[0;31m             batch_size=batch_size)\n\u001b[0m\u001b[1;32m   1406\u001b[0m         \u001b[0;31m# prepare validation data\u001b[0m\u001b[0;34m\u001b[0m\u001b[0;34m\u001b[0m\u001b[0m\n\u001b[1;32m   1407\u001b[0m         \u001b[0;32mif\u001b[0m \u001b[0mvalidation_data\u001b[0m\u001b[0;34m:\u001b[0m\u001b[0;34m\u001b[0m\u001b[0m\n",
      "\u001b[0;32m~/au/7term/tensorflow/lib/python3.6/site-packages/keras/engine/training.py\u001b[0m in \u001b[0;36m_standardize_user_data\u001b[0;34m(self, x, y, sample_weight, class_weight, check_batch_axis, batch_size)\u001b[0m\n\u001b[1;32m   1293\u001b[0m                                     \u001b[0mself\u001b[0m\u001b[0;34m.\u001b[0m\u001b[0m_feed_input_shapes\u001b[0m\u001b[0;34m,\u001b[0m\u001b[0;34m\u001b[0m\u001b[0m\n\u001b[1;32m   1294\u001b[0m                                     \u001b[0mcheck_batch_axis\u001b[0m\u001b[0;34m=\u001b[0m\u001b[0;32mFalse\u001b[0m\u001b[0;34m,\u001b[0m\u001b[0;34m\u001b[0m\u001b[0m\n\u001b[0;32m-> 1295\u001b[0;31m                                     exception_prefix='model input')\n\u001b[0m\u001b[1;32m   1296\u001b[0m         y = _standardize_input_data(y, self._feed_output_names,\n\u001b[1;32m   1297\u001b[0m                                     \u001b[0moutput_shapes\u001b[0m\u001b[0;34m,\u001b[0m\u001b[0;34m\u001b[0m\u001b[0m\n",
      "\u001b[0;32m~/au/7term/tensorflow/lib/python3.6/site-packages/keras/engine/training.py\u001b[0m in \u001b[0;36m_standardize_input_data\u001b[0;34m(data, names, shapes, check_batch_axis, exception_prefix)\u001b[0m\n\u001b[1;32m    131\u001b[0m                             \u001b[0;34m' to have shape '\u001b[0m \u001b[0;34m+\u001b[0m \u001b[0mstr\u001b[0m\u001b[0;34m(\u001b[0m\u001b[0mshapes\u001b[0m\u001b[0;34m[\u001b[0m\u001b[0mi\u001b[0m\u001b[0;34m]\u001b[0m\u001b[0;34m)\u001b[0m \u001b[0;34m+\u001b[0m\u001b[0;34m\u001b[0m\u001b[0m\n\u001b[1;32m    132\u001b[0m                             \u001b[0;34m' but got array with shape '\u001b[0m \u001b[0;34m+\u001b[0m\u001b[0;34m\u001b[0m\u001b[0m\n\u001b[0;32m--> 133\u001b[0;31m                             str(array.shape))\n\u001b[0m\u001b[1;32m    134\u001b[0m     \u001b[0;32mreturn\u001b[0m \u001b[0marrays\u001b[0m\u001b[0;34m\u001b[0m\u001b[0m\n\u001b[1;32m    135\u001b[0m \u001b[0;34m\u001b[0m\u001b[0m\n",
      "\u001b[0;31mValueError\u001b[0m: Error when checking model input: expected input_104 to have shape (None, 1) but got array with shape (10000, 2)"
     ]
    }
   ],
   "source": [
    "dense_cvae.train(x_train2, y_train2, x_test2, y_test2)"
   ]
  },
  {
   "cell_type": "code",
   "execution_count": 37,
   "metadata": {},
   "outputs": [
    {
     "name": "stdout",
     "output_type": "stream",
     "text": [
      "Training history\n"
     ]
    },
    {
     "data": {
      "text/plain": [
       "<matplotlib.text.Text at 0x18d7b4240>"
      ]
     },
     "execution_count": 37,
     "metadata": {},
     "output_type": "execute_result"
    },
    {
     "data": {
      "image/png": "[encoded data removed]",
      "text/plain": [
       "<matplotlib.figure.Figure at 0x18e8504a8>"
      ]
     },
     "metadata": {},
     "output_type": "display_data"
    }
   ],
   "source": [
    "import matplotlib.pyplot as plt\n",
    "%matplotlib inline\n",
    "\n",
    "print(\"Training history\")\n",
    "fig = plt.figure(figsize=(10,4))\n",
    "ax1 = fig.add_subplot(1, 2, 1)\n",
    "plt.plot(dense_cvae.history().history['loss'])\n",
    "ax1.set_title('loss')\n",
    "ax2 = fig.add_subplot(1, 2, 2)\n",
    "plt.plot(dense_cvae.history().history['val_loss'])\n",
    "ax2.set_title('validation loss')"
   ]
  },
  {
   "cell_type": "code",
   "execution_count": 38,
   "metadata": {},
   "outputs": [
    {
     "data": {
      "image/png": "[encoded data removed]",
      "text/plain": [
       "<matplotlib.figure.Figure at 0x190864128>"
      ]
     },
     "metadata": {},
     "output_type": "display_data"
    }
   ],
   "source": [
    "from keras.utils import np_utils\n",
    "\n",
    "pic_size = 32\n",
    "\n",
    "z_sample = np.random.rand(1, latent_size) # random \n",
    "\n",
    "plt.figure(figsize=(20, 2))\n",
    "for i in range(1):\n",
    "    c = np_utils.to_categorical(i, y_train1.shape[1])\n",
    "    x_decoded = dense_cvae.generate_pic(z_sample, c)\n",
    "    digit = x_decoded[0].reshape(pic_size, pic_size, 3)\n",
    "\n",
    "    plt.subplot(1, y_train1.shape[1], i + 1)\n",
    "    plt.axis('off')\n",
    "    plt.imshow(digit)\n",
    "plt.show()"
   ]
  },
  {
   "cell_type": "code",
   "execution_count": 39,
   "metadata": {},
   "outputs": [
    {
     "data": {
      "image/png": "[encoded data removed]",
      "text/plain": [
       "<matplotlib.figure.Figure at 0x19164c550>"
      ]
     },
     "metadata": {},
     "output_type": "display_data"
    }
   ],
   "source": [
    "x_decoded = dense_cvae.enc_dec(x_train1[:1], y_train1[:1])\n",
    "\n",
    "plt.figure(figsize=(20, 2))\n",
    "\n",
    "plt.subplot(1, 2, 1)\n",
    "plt.axis('off')\n",
    "plt.imshow(x_train1[0])\n",
    "\n",
    "plt.subplot(1, 2, 2)\n",
    "plt.axis('off')\n",
    "plt.imshow(x_decoded[0])\n",
    "\n",
    "plt.show()"
   ]
  },
  {
   "cell_type": "markdown",
   "metadata": {},
   "source": [
    "# ConvCVAE"
   ]
  },
  {
   "cell_type": "code",
   "execution_count": 178,
   "metadata": {},
   "outputs": [
    {
     "name": "stdout",
     "output_type": "stream",
     "text": [
      "Train on 2000 samples, validate on 2000 samples\n",
      "Epoch 1/80\n",
      "2000/2000 [==============================] - 16s - loss: 2100.2732 - val_loss: 2125.7347\n",
      "Epoch 2/80\n",
      "2000/2000 [==============================] - 13s - loss: 1972.0125 - val_loss: 2132.5322\n",
      "Epoch 3/80\n",
      "2000/2000 [==============================] - 13s - loss: 1925.7647 - val_loss: 2133.6127\n",
      "Epoch 4/80\n",
      "2000/2000 [==============================] - 13s - loss: 1907.7008 - val_loss: 2124.9852\n",
      "Epoch 5/80\n",
      "2000/2000 [==============================] - 13s - loss: 1888.2952 - val_loss: 2115.2679\n",
      "Epoch 6/80\n",
      "2000/2000 [==============================] - 13s - loss: 1871.6179 - val_loss: 2105.7480\n",
      "Epoch 7/80\n",
      "2000/2000 [==============================] - 13s - loss: 1861.7012 - val_loss: 2088.1137\n",
      "Epoch 8/80\n",
      "2000/2000 [==============================] - 13s - loss: 1858.3071 - val_loss: 2079.8555\n",
      "Epoch 9/80\n",
      "2000/2000 [==============================] - 13s - loss: 1852.8635 - val_loss: 2071.5525\n",
      "Epoch 10/80\n",
      "2000/2000 [==============================] - 13s - loss: 1847.6763 - val_loss: 2061.2406\n",
      "Epoch 11/80\n",
      "2000/2000 [==============================] - 13s - loss: 1845.5136 - val_loss: 2059.0142\n",
      "Epoch 12/80\n",
      "2000/2000 [==============================] - 13s - loss: 1841.8293 - val_loss: 2052.0589\n",
      "Epoch 13/80\n",
      "2000/2000 [==============================] - 13s - loss: 1840.3458 - val_loss: 2036.9565\n",
      "Epoch 14/80\n",
      "2000/2000 [==============================] - 13s - loss: 1835.8885 - val_loss: 2007.2818\n",
      "Epoch 15/80\n",
      "2000/2000 [==============================] - 13s - loss: 1830.2521 - val_loss: 2003.3965\n",
      "Epoch 16/80\n",
      "2000/2000 [==============================] - 13s - loss: 1828.3879 - val_loss: 1979.4806\n",
      "Epoch 17/80\n",
      "2000/2000 [==============================] - 13s - loss: 1826.1042 - val_loss: 1971.9418\n",
      "Epoch 18/80\n",
      "2000/2000 [==============================] - 13s - loss: 1822.5849 - val_loss: 1949.2606\n",
      "Epoch 19/80\n",
      "2000/2000 [==============================] - 13s - loss: 1820.9386 - val_loss: 1934.7257\n",
      "Epoch 20/80\n",
      "2000/2000 [==============================] - 13s - loss: 1814.9335 - val_loss: 1917.9913\n",
      "Epoch 21/80\n",
      "2000/2000 [==============================] - 13s - loss: 1811.9501 - val_loss: 1912.0181\n",
      "Epoch 22/80\n",
      "2000/2000 [==============================] - 13s - loss: 1809.4241 - val_loss: 1888.3059\n",
      "Epoch 23/80\n",
      "2000/2000 [==============================] - 14s - loss: 1809.6319 - val_loss: 1873.8229\n",
      "Epoch 24/80\n",
      "2000/2000 [==============================] - 13s - loss: 1806.8418 - val_loss: 1867.1458\n",
      "Epoch 25/80\n",
      "2000/2000 [==============================] - 13s - loss: 1806.2786 - val_loss: 1854.0831\n",
      "Epoch 26/80\n",
      "2000/2000 [==============================] - 13s - loss: 1806.0575 - val_loss: 1842.3268\n",
      "Epoch 27/80\n",
      "2000/2000 [==============================] - 13s - loss: 1805.7503 - val_loss: 1835.3506\n",
      "Epoch 28/80\n",
      "2000/2000 [==============================] - 13s - loss: 1802.2037 - val_loss: 1842.1211\n",
      "Epoch 29/80\n",
      "2000/2000 [==============================] - 13s - loss: 1800.5647 - val_loss: 1839.0376\n",
      "Epoch 30/80\n",
      "2000/2000 [==============================] - 13s - loss: 1799.7867 - val_loss: 1813.8090\n",
      "Epoch 31/80\n",
      "2000/2000 [==============================] - 13s - loss: 1798.5039 - val_loss: 1814.4697\n",
      "Epoch 32/80\n",
      "2000/2000 [==============================] - 13s - loss: 1797.4795 - val_loss: 1809.6997\n",
      "Epoch 33/80\n",
      "2000/2000 [==============================] - 13s - loss: 1796.8334 - val_loss: 1807.0866\n",
      "Epoch 34/80\n",
      "2000/2000 [==============================] - 13s - loss: 1794.3375 - val_loss: 1815.8420\n",
      "Epoch 35/80\n",
      "2000/2000 [==============================] - 16s - loss: 1793.8275 - val_loss: 1811.0378\n",
      "Epoch 36/80\n",
      "2000/2000 [==============================] - 13s - loss: 1793.0236 - val_loss: 1805.1370\n",
      "Epoch 37/80\n",
      "2000/2000 [==============================] - 13s - loss: 1791.6291 - val_loss: 1808.6062\n",
      "Epoch 38/80\n",
      "2000/2000 [==============================] - 14s - loss: 1792.5364 - val_loss: 1806.3030\n",
      "Epoch 39/80\n",
      "2000/2000 [==============================] - 16s - loss: 1792.3292 - val_loss: 1815.9123\n",
      "Epoch 40/80\n",
      "2000/2000 [==============================] - 15s - loss: 1790.9470 - val_loss: 1802.2498\n",
      "Epoch 41/80\n",
      "2000/2000 [==============================] - 15s - loss: 1790.3056 - val_loss: 1804.2494\n",
      "Epoch 42/80\n",
      "2000/2000 [==============================] - 13s - loss: 1790.4464 - val_loss: 1806.0499\n",
      "Epoch 43/80\n",
      "2000/2000 [==============================] - 14s - loss: 1789.4393 - val_loss: 1804.7847\n",
      "Epoch 44/80\n",
      "2000/2000 [==============================] - 13s - loss: 1787.6352 - val_loss: 1801.5898\n",
      "Epoch 45/80\n",
      "2000/2000 [==============================] - 14s - loss: 1787.4427 - val_loss: 1805.8170\n",
      "Epoch 46/80\n",
      "2000/2000 [==============================] - 14s - loss: 1785.5772 - val_loss: 1802.2732\n",
      "Epoch 47/80\n",
      "2000/2000 [==============================] - 14s - loss: 1786.3477 - val_loss: 1801.6648\n",
      "Epoch 48/80\n",
      "2000/2000 [==============================] - 14s - loss: 1785.3539 - val_loss: 1803.9733\n",
      "Epoch 49/80\n",
      "2000/2000 [==============================] - 15s - loss: 1785.2658 - val_loss: 1800.8859\n",
      "Epoch 50/80\n",
      "2000/2000 [==============================] - 14s - loss: 1784.2586 - val_loss: 1800.2219\n",
      "Epoch 51/80\n",
      "2000/2000 [==============================] - 15s - loss: 1784.8466 - val_loss: 1801.0500\n",
      "Epoch 52/80\n",
      "2000/2000 [==============================] - 13s - loss: 1784.0448 - val_loss: 1810.9873\n",
      "Epoch 53/80\n",
      "2000/2000 [==============================] - 13s - loss: 1782.8331 - val_loss: 1800.1893\n",
      "Epoch 54/80\n",
      "2000/2000 [==============================] - 13s - loss: 1784.6124 - val_loss: 1811.0340\n",
      "Epoch 55/80\n",
      "2000/2000 [==============================] - 13s - loss: 1781.7953 - val_loss: 1800.1245\n",
      "Epoch 56/80\n",
      "2000/2000 [==============================] - 13s - loss: 1780.8080 - val_loss: 1800.5609\n",
      "Epoch 57/80\n",
      "2000/2000 [==============================] - 13s - loss: 1781.5073 - val_loss: 1811.5290\n",
      "Epoch 58/80\n",
      "2000/2000 [==============================] - 13s - loss: 1782.6337 - val_loss: 1805.0162\n",
      "Epoch 59/80\n",
      "2000/2000 [==============================] - 13s - loss: 1780.1177 - val_loss: 1803.0906\n",
      "Epoch 60/80\n",
      "2000/2000 [==============================] - 13s - loss: 1780.1890 - val_loss: 1801.0924\n",
      "Epoch 61/80\n",
      "2000/2000 [==============================] - 13s - loss: 1780.0120 - val_loss: 1800.6880\n",
      "Epoch 62/80\n",
      "2000/2000 [==============================] - 13s - loss: 1779.9483 - val_loss: 1801.3405\n",
      "Epoch 63/80\n",
      "2000/2000 [==============================] - 13s - loss: 1778.9566 - val_loss: 1801.6442\n",
      "Epoch 64/80\n",
      "2000/2000 [==============================] - 13s - loss: 1778.4177 - val_loss: 1803.6792\n",
      "Epoch 65/80\n",
      "2000/2000 [==============================] - 13s - loss: 1777.3274 - val_loss: 1805.7711\n",
      "Epoch 66/80\n",
      "2000/2000 [==============================] - 13s - loss: 1779.2995 - val_loss: 1812.1022\n",
      "Epoch 67/80\n",
      "2000/2000 [==============================] - 13s - loss: 1777.1723 - val_loss: 1803.3972\n",
      "Epoch 68/80\n",
      "2000/2000 [==============================] - 13s - loss: 1775.4798 - val_loss: 1800.9747\n",
      "Epoch 69/80\n",
      "2000/2000 [==============================] - 13s - loss: 1776.3238 - val_loss: 1802.8326\n",
      "Epoch 70/80\n",
      "2000/2000 [==============================] - 13s - loss: 1775.2923 - val_loss: 1808.5472\n",
      "Epoch 71/80\n",
      "2000/2000 [==============================] - 13s - loss: 1776.4340 - val_loss: 1811.5273\n",
      "Epoch 72/80\n",
      "2000/2000 [==============================] - 13s - loss: 1776.4786 - val_loss: 1814.3926\n",
      "Epoch 73/80\n",
      "2000/2000 [==============================] - 13s - loss: 1775.3435 - val_loss: 1808.5064\n",
      "Epoch 74/80\n",
      "2000/2000 [==============================] - 13s - loss: 1774.9651 - val_loss: 1805.5648\n",
      "Epoch 75/80\n",
      "2000/2000 [==============================] - 13s - loss: 1774.6921 - val_loss: 1805.7063\n",
      "Epoch 76/80\n",
      "2000/2000 [==============================] - 14s - loss: 1774.7310 - val_loss: 1806.0474\n",
      "Epoch 77/80\n",
      "2000/2000 [==============================] - 15s - loss: 1773.4152 - val_loss: 1805.7197\n",
      "Epoch 78/80\n",
      "2000/2000 [==============================] - 13s - loss: 1773.6381 - val_loss: 1811.0351\n",
      "Epoch 79/80\n",
      "2000/2000 [==============================] - 13s - loss: 1773.3703 - val_loss: 1804.5543\n",
      "Epoch 80/80\n",
      "2000/2000 [==============================] - 14s - loss: 1773.7430 - val_loss: 1816.0461\n"
     ]
    }
   ],
   "source": [
    "conv_cvae = ConvCVAE(nbatch, (latent_size,), x_train2.shape[1:], y_train2.shape[1:])\n",
    "conv_cvae.train(x_train2[:2000], y_train2[:2000], x_test2, y_test2)"
   ]
  },
  {
   "cell_type": "code",
   "execution_count": 179,
   "metadata": {},
   "outputs": [
    {
     "name": "stdout",
     "output_type": "stream",
     "text": [
      "Training history\n"
     ]
    },
    {
     "data": {
      "text/plain": [
       "<matplotlib.text.Text at 0x12a219828>"
      ]
     },
     "execution_count": 179,
     "metadata": {},
     "output_type": "execute_result"
    },
    {
     "data": {
      "image/png": "[encoded data removed]",
      "text/plain": [
       "<matplotlib.figure.Figure at 0x1baae4978>"
      ]
     },
     "metadata": {},
     "output_type": "display_data"
    }
   ],
   "source": [
    "import matplotlib.pyplot as plt\n",
    "%matplotlib inline\n",
    "\n",
    "print(\"Training history\")\n",
    "fig = plt.figure(figsize=(10,4))\n",
    "ax1 = fig.add_subplot(1, 2, 1)\n",
    "plt.plot(conv_cvae.history().history['loss'])\n",
    "ax1.set_title('loss')\n",
    "ax2 = fig.add_subplot(1, 2, 2)\n",
    "plt.plot(conv_cvae.history().history['val_loss'])\n",
    "ax2.set_title('validation loss')"
   ]
  },
  {
   "cell_type": "code",
   "execution_count": 180,
   "metadata": {},
   "outputs": [
    {
     "data": {
      "image/png": "[encoded data removed]",
      "text/plain": [
       "<matplotlib.figure.Figure at 0x12a377588>"
      ]
     },
     "metadata": {},
     "output_type": "display_data"
    }
   ],
   "source": [
    "from keras.utils import np_utils\n",
    "pic_size = 32\n",
    "\n",
    "z_sample = np.random.rand(1, latent_size) # random \n",
    "\n",
    "plt.figure(figsize=(20, 2))\n",
    "for i in range(2):\n",
    "    c = np_utils.to_categorical(i, y_train2.shape[1])\n",
    "    x_decoded = conv_cvae.generate_pic(z_sample, c)\n",
    "    digit = x_decoded[0].reshape(pic_size, pic_size, 3)\n",
    "\n",
    "    plt.subplot(1, y_train2.shape[1], i + 1)\n",
    "    plt.axis('off')\n",
    "    plt.imshow(digit)\n",
    "plt.show()"
   ]
  },
  {
   "cell_type": "code",
   "execution_count": 181,
   "metadata": {},
   "outputs": [
    {
     "data": {
      "image/png": "[encoded data removed]",
      "text/plain": [
       "<matplotlib.figure.Figure at 0x1b61cfc18>"
      ]
     },
     "metadata": {},
     "output_type": "display_data"
    }
   ],
   "source": [
    "x_decoded = conv_cvae.enc_dec(x_train2[:1], y_train2[:1])\n",
    "\n",
    "plt.figure(figsize=(20, 2))\n",
    "\n",
    "plt.subplot(1, 2, 1)\n",
    "plt.axis('off')\n",
    "plt.imshow(x_train2[0])\n",
    "\n",
    "plt.subplot(1, 2, 2)\n",
    "plt.axis('off')\n",
    "plt.imshow(x_decoded[0])\n",
    "\n",
    "plt.show()"
   ]
  },
  {
   "cell_type": "code",
   "execution_count": null,
   "metadata": {},
   "outputs": [],
   "source": []
  }
 ],
 "metadata": {
  "kernelspec": {
   "display_name": "tensorflow",
   "language": "python",
   "name": "tensorflow"
  },
  "language_info": {
   "codemirror_mode": {
    "name": "ipython",
    "version": 3
   },
   "file_extension": ".py",
   "mimetype": "text/x-python",
   "name": "python",
   "nbconvert_exporter": "python",
   "pygments_lexer": "ipython3",
   "version": "3.6.1"
  }
 },
 "nbformat": 4,
 "nbformat_minor": 2
}
